{
 "cells": [
  {
   "cell_type": "markdown",
   "metadata": {},
   "source": [
    "# 쉽고 간단한 파이썬 문제\n",
    "도큐먼트 링크: \n",
    "https://docs.python.org/ko/3.6/library/stdtypes.html#sequence-types-list-tuple-range\n",
    "\n",
    "##### 람다문제는 구글링 권장"
   ]
  },
  {
   "cell_type": "code",
   "execution_count": 2,
   "metadata": {},
   "outputs": [
    {
     "data": {
      "text/plain": [
       "['a', 'b', 'c', 'd', 'e']"
      ]
     },
     "execution_count": 2,
     "metadata": {},
     "output_type": "execute_result"
    }
   ],
   "source": [
    "#문제1-1 : list1 = ['a', 'c', 'd', 'b', 'e']라는 리스트를 list1 = ['a', 'b', 'c', 'd', 'e']로 정렬해보세요.\n",
    "list1 = ['a', 'c', 'd', 'b', 'e']\n",
    "list1.sort()\n",
    "list1"
   ]
  },
  {
   "cell_type": "code",
   "execution_count": 4,
   "metadata": {},
   "outputs": [
    {
     "data": {
      "text/plain": [
       "['e', 'd', 'c', 'b', 'a']"
      ]
     },
     "execution_count": 4,
     "metadata": {},
     "output_type": "execute_result"
    }
   ],
   "source": [
    "#문제1-2 : list1 = ['a', 'c', 'd', 'b', 'e']라는 리스트를 list1 = ['e', 'd', 'c', 'b', 'a']로 정렬해보세요.\n",
    "list1 = ['a', 'c', 'd', 'b', 'e']\n",
    "list1.sort(reverse=True)\n",
    "list1"
   ]
  },
  {
   "cell_type": "code",
   "execution_count": 15,
   "metadata": {},
   "outputs": [
    {
     "data": {
      "text/plain": [
       "['a', 'c', 'd', 'b', 'e']"
      ]
     },
     "execution_count": 15,
     "metadata": {},
     "output_type": "execute_result"
    }
   ],
   "source": [
    "# 문제 1-3 : list타입의 변수를 sort()함수로 정렬할 경우 따로 저장하지 않아도 원본 데이터가 바뀐 상태로 저장된다?? (print T of F)\n",
    "True"
   ]
  },
  {
   "cell_type": "code",
   "execution_count": 36,
   "metadata": {},
   "outputs": [
    {
     "name": "stdout",
     "output_type": "stream",
     "text": [
      "sorted()\n"
     ]
    },
    {
     "data": {
      "text/plain": [
       "['e', 'd', 'c', 'b', 'a']"
      ]
     },
     "execution_count": 36,
     "metadata": {},
     "output_type": "execute_result"
    }
   ],
   "source": [
    "# 문제 1-4 : 원본 데이터가 바뀌지 않은 상태로 정렬하고 싶을 때 쓰는 함수는 () 이다. (print(함수명))\n",
    "\n",
    "print(\"sorted()\")\n",
    "\n",
    "# 문제 1-5 : 위 함수를 사용해 list1 = ['a', 'c', 'd', 'b', 'e']를 ['e', 'd', 'c', 'b', 'a']로 만들어보세요.\n",
    "\n",
    "list1 = ['a', 'c', 'd', 'b', 'e']\n",
    "sorted(list1, reverse=True)"
   ]
  },
  {
   "cell_type": "code",
   "execution_count": 28,
   "metadata": {},
   "outputs": [
    {
     "data": {
      "text/plain": [
       "'a'"
      ]
     },
     "execution_count": 28,
     "metadata": {},
     "output_type": "execute_result"
    }
   ],
   "source": [
    "# 문제 2-1 : ['a', 'c', 'd', 'b', 'e'] 에서 각각 다른 삭제함수를 사용해 'a'와 'e'를 지워보세요.\n",
    "list1.pop(0)\n"
   ]
  },
  {
   "cell_type": "code",
   "execution_count": 29,
   "metadata": {},
   "outputs": [
    {
     "data": {
      "text/plain": [
       "['c', 'd', 'b', 'e']"
      ]
     },
     "execution_count": 29,
     "metadata": {},
     "output_type": "execute_result"
    }
   ],
   "source": [
    "list1"
   ]
  },
  {
   "cell_type": "code",
   "execution_count": 30,
   "metadata": {},
   "outputs": [
    {
     "data": {
      "text/plain": [
       "'e'"
      ]
     },
     "execution_count": 30,
     "metadata": {},
     "output_type": "execute_result"
    }
   ],
   "source": [
    "list1.pop(3)"
   ]
  },
  {
   "cell_type": "code",
   "execution_count": 31,
   "metadata": {},
   "outputs": [
    {
     "data": {
      "text/plain": [
       "['c', 'd', 'b']"
      ]
     },
     "execution_count": 31,
     "metadata": {},
     "output_type": "execute_result"
    }
   ],
   "source": [
    "list1"
   ]
  },
  {
   "cell_type": "code",
   "execution_count": 32,
   "metadata": {},
   "outputs": [],
   "source": [
    "# 문제 2-2 : 위 문제의 결과값에 'missoin'과 'complete'를 추가하세요. (두 값을 한번에 넣는 연습 / append 사용 X / 힌트 : 연장)\n",
    "list1.extend(['mission','complete'])"
   ]
  },
  {
   "cell_type": "code",
   "execution_count": 33,
   "metadata": {},
   "outputs": [
    {
     "data": {
      "text/plain": [
       "['c', 'd', 'b', 'mission', 'complete']"
      ]
     },
     "execution_count": 33,
     "metadata": {},
     "output_type": "execute_result"
    }
   ],
   "source": [
    "list1"
   ]
  },
  {
   "cell_type": "code",
   "execution_count": 119,
   "metadata": {},
   "outputs": [
    {
     "data": {
      "text/plain": [
       "'lET THE gAME BEGIN.'"
      ]
     },
     "execution_count": 119,
     "metadata": {},
     "output_type": "execute_result"
    }
   ],
   "source": [
    "# 문제 3-1 : 다음은 DA반 y모 학생이 좋아하는 영화 대사이다. 대문자와 소문자를 서로 바꾸어 y를 골탕 먹이자.  ('lET THE gAME BEGIN.')\n",
    "list2 = \"Let the Game begin.\"\n"
   ]
  },
  {
   "cell_type": "code",
   "execution_count": 78,
   "metadata": {},
   "outputs": [
    {
     "data": {
      "text/plain": [
       "'Let The Game Begin'"
      ]
     },
     "execution_count": 78,
     "metadata": {},
     "output_type": "execute_result"
    }
   ],
   "source": [
    "# 문제 3-2 : 장난을 치다가 강사님한테 발각됐다. 문장을 원래대로 바꾸어 놓으라는 지시를 받았다. \n",
    "# 단어 첫 글자는 대문자, 나머지는 소문자로 바꾸어보자. ('Let The Game Begin.')\n",
    "data=\"let the game begin\"\n",
    "data.title()"
   ]
  },
  {
   "cell_type": "code",
   "execution_count": 38,
   "metadata": {},
   "outputs": [
    {
     "data": {
      "text/plain": [
       "60"
      ]
     },
     "execution_count": 38,
     "metadata": {},
     "output_type": "execute_result"
    }
   ],
   "source": [
    "# 문제 4-1 : dict1 = {'A':90, 'B':80, 'C':70, 'D':60, 'E':50}에서 ‘D’의 key / value를 삭제해 보세요.\n",
    "dict1 = {'A':90, 'B':80, 'C':70, 'D':60, 'E':50}\n",
    "dict1.pop('D')"
   ]
  },
  {
   "cell_type": "code",
   "execution_count": 39,
   "metadata": {},
   "outputs": [
    {
     "data": {
      "text/plain": [
       "{'A': 90, 'B': 80, 'C': 70, 'E': 50}"
      ]
     },
     "execution_count": 39,
     "metadata": {},
     "output_type": "execute_result"
    }
   ],
   "source": [
    "dict1"
   ]
  },
  {
   "cell_type": "code",
   "execution_count": 40,
   "metadata": {},
   "outputs": [
    {
     "data": {
      "text/plain": [
       "{'D': 60}"
      ]
     },
     "execution_count": 40,
     "metadata": {},
     "output_type": "execute_result"
    }
   ],
   "source": [
    "# 문제 4-2 : 삭제한 'D'의 value값을는 dic2에 넣어 만들어 보세요.\n",
    "dic2={'D':60}\n",
    "dic2"
   ]
  },
  {
   "cell_type": "code",
   "execution_count": 56,
   "metadata": {},
   "outputs": [
    {
     "data": {
      "text/plain": [
       "['Jangza', 'encore.com']"
      ]
     },
     "execution_count": 56,
     "metadata": {},
     "output_type": "execute_result"
    }
   ],
   "source": [
    "# 문제 5 : 제시된 이메일에서 아이디와 이메일 도메인을 분리해 ('Jangza', '@', 'encore.com') 형태로 출력해 보세요.\n",
    "e = \"Jangza@encore.com\"\n",
    "e.split('@')"
   ]
  },
  {
   "cell_type": "markdown",
   "metadata": {},
   "source": [
    "# 람다 함수\n",
    "https://docs.python.org/ko/3.6/reference/expressions.html#lambda"
   ]
  },
  {
   "cell_type": "code",
   "execution_count": 77,
   "metadata": {},
   "outputs": [
    {
     "ename": "SyntaxError",
     "evalue": "'return' outside function (<ipython-input-77-18a3f14ac46e>, line 3)",
     "output_type": "error",
     "traceback": [
      "\u001b[1;36m  File \u001b[1;32m\"<ipython-input-77-18a3f14ac46e>\"\u001b[1;36m, line \u001b[1;32m3\u001b[0m\n\u001b[1;33m    return (True)\u001b[0m\n\u001b[1;37m    ^\u001b[0m\n\u001b[1;31mSyntaxError\u001b[0m\u001b[1;31m:\u001b[0m 'return' outside function\n"
     ]
    }
   ],
   "source": [
    "# 문제 6 : 홀수일 경우 True 아닐 경우 False를 출력하는 lambda함수를 만들어 보세요.\n"
   ]
  },
  {
   "cell_type": "code",
   "execution_count": 71,
   "metadata": {},
   "outputs": [
    {
     "name": "stdout",
     "output_type": "stream",
     "text": [
      "1번 문제 맞춤\n",
      "2번 문제 맞춤\n",
      "3번 문제 맞춤\n",
      "4번 문제 맞춤\n",
      "5번 문제 맞춤\n",
      "6번 문제 맞춤\n",
      "7번 문제 맞춤\n",
      "마스터\n"
     ]
    }
   ],
   "source": [
    "# 문제 7 : 앞서 풀었던 1 ~ 7개의 문제 중 정답/오답 여부를 출력하고,                             (x-x 번 문제중 하나라도 맞았다면 정답!)\n",
    "# 5개 이상 맞췄다면\" 고수\", 전부 맞았을 경우 \"마스터\"라는 칭호는 부여하세요.\n",
    "# 힌트 : list[] / for / if\n",
    "\n",
    "for i in range(7):\n",
    "    print(\"%d번 문제 맞춤\" % (i+1))\n",
    "\n",
    "scores = ['맞춤', '맞춤','맞춤','맞춤','맞춤','맞춤','맞춤']\n",
    "\n",
    "total = 0\n",
    "count = 0\n",
    "\n",
    "for score in scores:\n",
    "  #  print (score)\n",
    "   \n",
    "    count = count + 1\n",
    "\n",
    "if count>=5 and count <7:\n",
    "    print(\"고수\")\n",
    "elif count==7:\n",
    "    print(\"마스터\")\n",
    "\n"
   ]
  },
  {
   "cell_type": "markdown",
   "metadata": {},
   "source": [
    "### 출력 예제\n",
    "1번 문제 틀림<br>\n",
    "2번 문제 맞춤<br>\n",
    "3번 문제 맞춤<br>\n",
    "4번 문제 맞춤<br>\n",
    "5번 문제 맞춤<br>\n",
    "6번 문제 맞춤<br>\n",
    "7번 문제 맞춤<br><br>\n",
    "당신은 파이썬 고수"
   ]
  },
  {
   "cell_type": "markdown",
   "metadata": {},
   "source": [
    "# 수고하셨습니다!!"
   ]
  }
 ],
 "metadata": {
  "kernelspec": {
   "display_name": "Python 3",
   "language": "python",
   "name": "python3"
  },
  "language_info": {
   "codemirror_mode": {
    "name": "ipython",
    "version": 3
   },
   "file_extension": ".py",
   "mimetype": "text/x-python",
   "name": "python",
   "nbconvert_exporter": "python",
   "pygments_lexer": "ipython3",
   "version": "3.7.0"
  }
 },
 "nbformat": 4,
 "nbformat_minor": 2
}

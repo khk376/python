{
 "cells": [
  {
   "cell_type": "markdown",
   "metadata": {},
   "source": [
    "## 별똥별은 거꾸로 해도 별똥별!\n",
    "\n",
    ">Q. i는 10부터 29까지의 수 입니다. j도 10부터 29까지의 수 입니다. i와 j를 곱한 값을 앞, 뒤로 뒤집었을 때, 원래 곱한 값과 같다면, 출력하세요.<br>\n",
    "\n",
    "> ex1) 11x11=121  -- 출력<br>\n",
    "> ex2) 16x17=272  -- 출력<br>\n",
    "> ex3) 29x16=464  -- 출력<br>\n",
    "> ex4) 26x17=442  -- X <br>\n",
    "> tip* 결과값에서 중복된 값을 지우고 싶다면 set()함수를 사용하세요.<br>\n"
   ]
  },
  {
   "cell_type": "code",
   "execution_count": 72,
   "metadata": {},
   "outputs": [
    {
     "data": {
      "text/plain": [
       "{100,\n",
       " 110,\n",
       " 120,\n",
       " 121,\n",
       " 130,\n",
       " 132,\n",
       " 140,\n",
       " 143,\n",
       " 144,\n",
       " 150,\n",
       " 154,\n",
       " 156,\n",
       " 160,\n",
       " 165,\n",
       " 168,\n",
       " 169,\n",
       " 170,\n",
       " 176,\n",
       " 180,\n",
       " 182,\n",
       " 187,\n",
       " 190,\n",
       " 192,\n",
       " 195,\n",
       " 196,\n",
       " 198,\n",
       " 200,\n",
       " 204,\n",
       " 208,\n",
       " 209,\n",
       " 210,\n",
       " 216,\n",
       " 220,\n",
       " 221,\n",
       " 224,\n",
       " 225,\n",
       " 228,\n",
       " 230,\n",
       " 231,\n",
       " 234,\n",
       " 238,\n",
       " 240,\n",
       " 242,\n",
       " 247,\n",
       " 250,\n",
       " 252,\n",
       " 253,\n",
       " 255,\n",
       " 256,\n",
       " 260,\n",
       " 264,\n",
       " 266,\n",
       " 270,\n",
       " 272,\n",
       " 273,\n",
       " 275,\n",
       " 276,\n",
       " 280,\n",
       " 285,\n",
       " 286,\n",
       " 288,\n",
       " 289,\n",
       " 294,\n",
       " 297,\n",
       " 299,\n",
       " 300,\n",
       " 304,\n",
       " 306,\n",
       " 308,\n",
       " 312,\n",
       " 315,\n",
       " 320,\n",
       " 322,\n",
       " 323,\n",
       " 324,\n",
       " 325,\n",
       " 330,\n",
       " 336,\n",
       " 338,\n",
       " 340,\n",
       " 342,\n",
       " 345,\n",
       " 350,\n",
       " 351,\n",
       " 352,\n",
       " 357,\n",
       " 360,\n",
       " 361,\n",
       " 364,\n",
       " 368,\n",
       " 374,\n",
       " 375,\n",
       " 378,\n",
       " 380,\n",
       " 384,\n",
       " 390,\n",
       " 391,\n",
       " 392,\n",
       " 396,\n",
       " 399,\n",
       " 400,\n",
       " 405,\n",
       " 408,\n",
       " 414,\n",
       " 416,\n",
       " 418,\n",
       " 420,\n",
       " 425,\n",
       " 432,\n",
       " 437,\n",
       " 440,\n",
       " 441,\n",
       " 442,\n",
       " 448,\n",
       " 450,\n",
       " 456,\n",
       " 459,\n",
       " 460,\n",
       " 462,\n",
       " 468,\n",
       " 475,\n",
       " 476,\n",
       " 480,\n",
       " 483,\n",
       " 484,\n",
       " 486,\n",
       " 494,\n",
       " 500,\n",
       " 504,\n",
       " 506,\n",
       " 513,\n",
       " 520,\n",
       " 525,\n",
       " 528,\n",
       " 529,\n",
       " 532,\n",
       " 540,\n",
       " 546,\n",
       " 550,\n",
       " 552,\n",
       " 560,\n",
       " 567,\n",
       " 572,\n",
       " 575,\n",
       " 576,\n",
       " 588,\n",
       " 594,\n",
       " 598,\n",
       " 600,\n",
       " 616,\n",
       " 621,\n",
       " 624,\n",
       " 625,\n",
       " 644,\n",
       " 648,\n",
       " 650,\n",
       " 672,\n",
       " 675,\n",
       " 676,\n",
       " 700,\n",
       " 702,\n",
       " 728,\n",
       " 729,\n",
       " 756,\n",
       " 784}"
      ]
     },
     "execution_count": 72,
     "metadata": {},
     "output_type": "execute_result"
    }
   ],
   "source": [
    "data=[i*j for i in range(10, 29) for j in range(10, 29)]\n",
    "\n",
    "data1=set(data)\n",
    "data1"
   ]
  },
  {
   "cell_type": "markdown",
   "metadata": {},
   "source": [
    "## 별에별 문제가 다있네(level1)\n",
    "\n",
    ">수단과 방법을 가리지 말고 별을 찍으시오."
   ]
  },
  {
   "cell_type": "code",
   "execution_count": 39,
   "metadata": {},
   "outputs": [
    {
     "name": "stdout",
     "output_type": "stream",
     "text": [
      "*\n",
      "**\n",
      "***\n",
      "****\n",
      "*****\n",
      "******\n",
      "*******\n",
      "********\n",
      "*********\n",
      "**********\n"
     ]
    }
   ],
   "source": [
    "for a in range(10):\n",
    "    a=(1+a)*'*'\n",
    "    print(a)"
   ]
  },
  {
   "cell_type": "code",
   "execution_count": 43,
   "metadata": {},
   "outputs": [
    {
     "name": "stdout",
     "output_type": "stream",
     "text": [
      "**********\n",
      "*********\n",
      "********\n",
      "*******\n",
      "******\n",
      "*****\n",
      "****\n",
      "***\n",
      "**\n",
      "*\n"
     ]
    }
   ],
   "source": [
    "for a in range(10):\n",
    "    a=(10-a)*'*'\n",
    "    print(a)"
   ]
  },
  {
   "cell_type": "code",
   "execution_count": 44,
   "metadata": {},
   "outputs": [
    {
     "name": "stdout",
     "output_type": "stream",
     "text": [
      "          *\n",
      "         **\n",
      "        ***\n",
      "       ****\n",
      "      *****\n",
      "     ******\n",
      "    *******\n",
      "   ********\n",
      "  *********\n",
      " **********\n"
     ]
    }
   ],
   "source": [
    "for a in range(10):\n",
    "    a=(10-a)*' '+(1+a)*'*'\n",
    "    print(a)"
   ]
  },
  {
   "cell_type": "code",
   "execution_count": 37,
   "metadata": {},
   "outputs": [
    {
     "name": "stdout",
     "output_type": "stream",
     "text": [
      "**********\n",
      " *********\n",
      "  ********\n",
      "   *******\n",
      "    ******\n",
      "     *****\n",
      "      ****\n",
      "       ***\n",
      "        **\n",
      "         *\n"
     ]
    }
   ],
   "source": [
    "for a in range(10):\n",
    "    a=a*' '+(10-a)*'*'\n",
    "    print(a)"
   ]
  },
  {
   "cell_type": "markdown",
   "metadata": {},
   "source": [
    "## 별에별 문제가 다있어(level2)\n",
    ">시간이 많이 남고 무료한 사람만 수단과 방법을 가리지 말고 별을 찍으시오."
   ]
  },
  {
   "cell_type": "code",
   "execution_count": 93,
   "metadata": {},
   "outputs": [
    {
     "ename": "TypeError",
     "evalue": "can't multiply sequence by non-int of type 'str'",
     "output_type": "error",
     "traceback": [
      "\u001b[1;31m---------------------------------------------------------------------------\u001b[0m",
      "\u001b[1;31mTypeError\u001b[0m                                 Traceback (most recent call last)",
      "\u001b[1;32m<ipython-input-93-e141670d193f>\u001b[0m in \u001b[0;36m<module>\u001b[1;34m()\u001b[0m\n\u001b[0;32m      1\u001b[0m \u001b[1;32mfor\u001b[0m \u001b[0ma\u001b[0m \u001b[1;32min\u001b[0m \u001b[0mrange\u001b[0m\u001b[1;33m(\u001b[0m\u001b[1;36m1\u001b[0m\u001b[1;33m,\u001b[0m \u001b[1;36m10\u001b[0m\u001b[1;33m,\u001b[0m\u001b[1;36m2\u001b[0m\u001b[1;33m)\u001b[0m\u001b[1;33m:\u001b[0m\u001b[1;33m\u001b[0m\u001b[0m\n\u001b[0;32m      2\u001b[0m     \u001b[1;32mfor\u001b[0m \u001b[0mb\u001b[0m \u001b[1;32min\u001b[0m \u001b[0mrange\u001b[0m\u001b[1;33m(\u001b[0m\u001b[1;36m1\u001b[0m\u001b[1;33m,\u001b[0m \u001b[1;36m5\u001b[0m\u001b[1;33m)\u001b[0m\u001b[1;33m:\u001b[0m\u001b[1;33m\u001b[0m\u001b[0m\n\u001b[1;32m----> 3\u001b[1;33m         \u001b[0ma\u001b[0m\u001b[1;33m=\u001b[0m\u001b[1;33m(\u001b[0m\u001b[1;36m5\u001b[0m\u001b[1;33m-\u001b[0m\u001b[0mb\u001b[0m\u001b[1;33m)\u001b[0m\u001b[1;33m*\u001b[0m\u001b[1;34m' '\u001b[0m \u001b[1;33m+\u001b[0m \u001b[1;33m(\u001b[0m\u001b[0ma\u001b[0m\u001b[1;33m)\u001b[0m\u001b[1;33m*\u001b[0m\u001b[1;34m'*'\u001b[0m\u001b[1;33m\u001b[0m\u001b[0m\n\u001b[0m\u001b[0;32m      4\u001b[0m     \u001b[0mprint\u001b[0m\u001b[1;33m(\u001b[0m\u001b[0ma\u001b[0m\u001b[1;33m)\u001b[0m\u001b[1;33m\u001b[0m\u001b[0m\n",
      "\u001b[1;31mTypeError\u001b[0m: can't multiply sequence by non-int of type 'str'"
     ]
    }
   ],
   "source": [
    "for a in range(1, 10,2):\n",
    "    for b in range(1, 5):\n",
    "        a=(5-b)*' ' + (a)*'*'\n",
    "    print(a)"
   ]
  },
  {
   "cell_type": "code",
   "execution_count": 45,
   "metadata": {},
   "outputs": [
    {
     "name": "stdout",
     "output_type": "stream",
     "text": [
      "**********************\n",
      "* ****************** *\n",
      "*  ****************  *\n",
      "*   **************   *\n",
      "*    ************    *\n",
      "*     **********     *\n",
      "*      ********      *\n",
      "*       ******       *\n",
      "*        ****        *\n",
      "*         **         *\n",
      "*         **         *\n",
      "*        *  *        *\n",
      "*       *    *       *\n",
      "*      *      *      *\n",
      "*     *        *     *\n",
      "*    *          *    *\n",
      "*   *            *   *\n",
      "*  *              *  *\n",
      "* *                * *\n",
      "**                  **\n",
      "**********************\n"
     ]
    }
   ],
   "source": [
    "#참고하고 싶은 사람만 보시고, 심심하시면 백지에서 진행 권유.\n",
    "\n",
    "for i in range(10,0,-1):\n",
    "    print(\"*\"+\" \"*(10-i)+\"*\"+\"*\"*(2*i-2)+\"*\"+\" \"*(10-i)+\"*\")\n",
    "    if 1==i:\n",
    "        for i in range(0,10):\n",
    "            print(\"*\"+\" \"*(9-i)+\"*\"+\" \"*(i*2)+\"*\"+\" \"*(9-i)+\"*\")\n",
    "print(\"*\"*22)"
   ]
  },
  {
   "cell_type": "code",
   "execution_count": 13,
   "metadata": {},
   "outputs": [
    {
     "name": "stdout",
     "output_type": "stream",
     "text": [
      "**********************\n",
      "**                  **\n",
      "* *                * *\n",
      "*  *              *  *\n",
      "*   *            *   *\n",
      "*    ************    *\n",
      "*     **********     *\n",
      "*      ********      *\n",
      "*       ******       *\n",
      "*        ****        *\n",
      "*         **         *\n",
      "*         **         *\n",
      "*        *  *        *\n",
      "*       *    *       *\n",
      "*      *      *      *\n",
      "*     *        *     *\n",
      "*    *          *    *\n",
      "*   *            *   *\n",
      "*  ****************  *\n",
      "* ****************** *\n",
      "**********************\n"
     ]
    }
   ],
   "source": []
  }
 ],
 "metadata": {
  "kernelspec": {
   "display_name": "Python 3",
   "language": "python",
   "name": "python3"
  },
  "language_info": {
   "codemirror_mode": {
    "name": "ipython",
    "version": 3
   },
   "file_extension": ".py",
   "mimetype": "text/x-python",
   "name": "python",
   "nbconvert_exporter": "python",
   "pygments_lexer": "ipython3",
   "version": "3.7.0"
  }
 },
 "nbformat": 4,
 "nbformat_minor": 2
}

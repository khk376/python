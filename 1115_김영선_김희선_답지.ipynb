{
 "cells": [
  {
   "cell_type": "markdown",
   "metadata": {},
   "source": [
    "### - 문제 1. 해설 -"
   ]
  },
  {
   "cell_type": "code",
   "execution_count": 48,
   "metadata": {},
   "outputs": [
    {
     "name": "stdout",
     "output_type": "stream",
     "text": [
      "입력값 1 : 40\n",
      "입력값 2 : 2\n",
      "\n",
      "------ 결과 -------\n",
      "\n",
      "덧셈 결과: 42\n",
      "뺄셈 결과: 38\n",
      "곱셈 결과: 80\n",
      "나눗셈 결과: 20.0\n"
     ]
    }
   ],
   "source": [
    "class calculator:\n",
    "     \n",
    "    def setx(self, x):\n",
    "        self.x=x\n",
    "    \n",
    "    def sety(self, y):\n",
    "        self.y=y\n",
    "    \n",
    "    def add(self):\n",
    "        return self.x + self.y\n",
    "    def sub(self):\n",
    "        return self.x - self.y\n",
    "    def mul(self):\n",
    "        return self.x * self.y\n",
    "    def div(self):\n",
    "        return self.x / self.y\n",
    "\n",
    "    \n",
    "    \n",
    "    \n",
    "a = calculator()\n",
    "\n",
    "a.setx(int(input(\"입력값 1 : \")))\n",
    "a.sety(int(input(\"입력값 2 : \")))\n",
    "print(\"\\n------ 결과 -------\\n\")\n",
    "print(\"덧셈 결과:\" ,a.add())\n",
    "print(\"뺄셈 결과:\", a.sub())\n",
    "print(\"곱셈 결과:\", a.mul())\n",
    "print(\"나눗셈 결과:\", a.div())"
   ]
  },
  {
   "cell_type": "markdown",
   "metadata": {},
   "source": [
    "### - 문제 2. 해설 -"
   ]
  },
  {
   "cell_type": "code",
   "execution_count": 54,
   "metadata": {},
   "outputs": [
    {
     "name": "stdout",
     "output_type": "stream",
     "text": [
      "5\n"
     ]
    }
   ],
   "source": [
    "from functools import reduce\n",
    "data=reduce(lambda x,y : x+y, [1,4])\n",
    "print(data)"
   ]
  },
  {
   "cell_type": "code",
   "execution_count": 45,
   "metadata": {},
   "outputs": [
    {
     "name": "stdout",
     "output_type": "stream",
     "text": [
      "[2, 3]\n",
      "5\n",
      "[2, 3]\n",
      "[1, 2, 3, 4, 5, 6, 7]\n",
      "[1, 2, 3, 5, 8, 13, 21]\n"
     ]
    }
   ],
   "source": [
    "from functools import reduce\n",
    "class fibonacci:\n",
    "    def __init__(self, list1=[1,2,3,4,5]):\n",
    "        self.list1 = list1\n",
    "        self.sum = reduce(lambda x,y : x+y, self.list1)\n",
    "        print(self.list1)\n",
    "    \n",
    "    def getSum(self):\n",
    "        return self.sum\n",
    "        \n",
    "    def setfibo(self):\n",
    "        if(len(self.list1)<=2):\n",
    "            return self.list1\n",
    "        else:\n",
    "            for i in range(2, len(self.list1)):\n",
    "                self.list1[i] = self.list1[i-2]+self.list1[i-1]\n",
    "            return self.list1\n",
    "        \n",
    "f = fibonacci([2,3])\n",
    "print(f.getSum())\n",
    "print(f.setfibo())\n",
    "f1 = fibonacci([1,2,3,4,5,6,7])\n",
    "print(f1.setfibo())"
   ]
  },
  {
   "cell_type": "code",
   "execution_count": null,
   "metadata": {},
   "outputs": [],
   "source": []
  },
  {
   "cell_type": "markdown",
   "metadata": {},
   "source": [
    "### - 문제 3 해설 -"
   ]
  },
  {
   "cell_type": "code",
   "execution_count": null,
   "metadata": {},
   "outputs": [],
   "source": [
    "class password:\n",
    "    def __init__(self, list1=[1,1,1,1,1],list2=[1,1,1,1,1]):\n",
    "        self.list1 = list1\n",
    "        self.list2 = list2\n",
    "        self.binary1 = []\n",
    "        self.binary2 = []\n",
    "        \n",
    "        for i in range(len(self.list1)):\n",
    "                self.binary1.append((bin(self.list1[i]).lstrip('0b')).zfill(5))\n",
    "            \n",
    "        for i in range(len(self.list2)):\n",
    "                self.binary2.append((bin(self.list2[i]).lstrip('0b')).zfill(5))\n",
    "\n",
    "        print(self.binary1,'와', self.binary2)\n",
    "        \n",
    "    def compareList(self):\n",
    "        self.password = []\n",
    "        self.chac = ''\n",
    "        for i in range(5):\n",
    "            self.chac = ''\n",
    "            for j in range(5):\n",
    "                if((int(self.binary1[i][j]) == 0) and (int(self.binary2[i][j]) == 0)):\n",
    "                    self.chac = self.chac+ \" \"\n",
    "                else:\n",
    "                    self.chac = self.chac+\"#\"\n",
    "            self.password.append(self.chac)\n",
    "        print(self.password)\n",
    "        \n",
    "        \n",
    "        \n",
    "passwd = password([15,15,15,15,15],[2,2,2,2,2])\n",
    "passwd.compareList()"
   ]
  },
  {
   "cell_type": "code",
   "execution_count": 24,
   "metadata": {},
   "outputs": [
    {
     "name": "stdout",
     "output_type": "stream",
     "text": [
      "['01111', '01111', '01111', '01111', '11111'] 와 ['00010', '00010', '00010', '00001', '00001']\n",
      "[' ####', ' ####', ' ####', ' ####', '#####']\n",
      "['00001', '00001', '00001', '00001', '00001'] 와 ['00001', '00001', '00001', '00001', '00001']\n",
      "['    #', '    #', '    #', '    #', '    #']\n"
     ]
    }
   ],
   "source": [
    "class password:\n",
    "    try:\n",
    "        def __init__(self, list1=[1,1,1,1,1],list2=[1,1,1,1,1]):\n",
    "            self.list1 = list1\n",
    "            self.list2 = list2\n",
    "            self.binary1 = []\n",
    "            self.binary2 = []\n",
    "\n",
    "            for i in range(len(self.list1)):\n",
    "                if((0 <= self.list1[i] <= 31) and (str(self.list1[i]).isdigit() == True)):\n",
    "                    continue\n",
    "                else:\n",
    "                    raise Exception('유효한 값이 아닙니다.') \n",
    "\n",
    "            for i in range(len(self.list2)):\n",
    "                if((0 <= int(self.list2[i]) <= 31) and (str(self.list2[i]).isdigit() == True)):\n",
    "                    continue\n",
    "                else:\n",
    "                    raise Exception('유효한 값이 아닙니다.')\n",
    "\n",
    "            for i in range(len(self.list1)):        \n",
    "                self.binary1.append((bin(self.list1[i]).lstrip('0b')).zfill(5))\n",
    "\n",
    "            for i in range(len(self.list2)):\n",
    "                self.binary2.append((bin(self.list2[i]).lstrip('0b')).zfill(5))\n",
    "            \n",
    "            print(self.binary1,'와', self.binary2)\n",
    "    except Exception as e:                           \n",
    "        print('예외 발생!', e)\n",
    "                \n",
    "    def compareList(self):\n",
    "        self.password = []\n",
    "        self.chac = ''\n",
    "        for i in range(5):\n",
    "            self.chac = ''\n",
    "            for j in range(5):\n",
    "                if((int(self.binary1[i][j]) == 0) and (int(self.binary2[i][j]) == 0)):\n",
    "                    self.chac = self.chac+ \" \"\n",
    "                else:\n",
    "                    self.chac = self.chac+\"#\"\n",
    "            self.password.append(self.chac)\n",
    "        print(self.password)\n",
    "                \n",
    "\n",
    "passwd = password([15,15,15,15, 31],[2,2,2,1,1])\n",
    "passwd.compareList()\n",
    "passwd1 = password()\n",
    "passwd1.compareList()"
   ]
  }
 ],
 "metadata": {
  "kernelspec": {
   "display_name": "Python 3",
   "language": "python",
   "name": "python3"
  },
  "language_info": {
   "codemirror_mode": {
    "name": "ipython",
    "version": 3
   },
   "file_extension": ".py",
   "mimetype": "text/x-python",
   "name": "python",
   "nbconvert_exporter": "python",
   "pygments_lexer": "ipython3",
   "version": "3.7.0"
  }
 },
 "nbformat": 4,
 "nbformat_minor": 2
}

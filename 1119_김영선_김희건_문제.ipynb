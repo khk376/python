{
 "cells": [
  {
   "cell_type": "markdown",
   "metadata": {},
   "source": [
    "# - 문제 1. 사칙연산의 기능을 가진 계산기 클래스를 구현해보시오. <br>\n",
    "(단, input()함수를 이용하여 두개의 숫자 입력받아 계산한다.)\n",
    "\n",
    "출력예시\n",
    "\n",
    ">입력값 1 : 24 <br>\n",
    ">입력값 2 : 4 <br>\n",
    ">\n",
    ">------ 계산결과 ------<br>\n",
    "><br>\n",
    ">덧셈 결과: 28 <br>\n",
    ">뺄셈 결과: 20<br>\n",
    ">곱셈 결과: 96<br>\n",
    ">나눗셈 결과: 6<br>"
   ]
  },
  {
   "cell_type": "markdown",
   "metadata": {},
   "source": [
    "# - 문제 2. 피보나치수열로 저장하는 클래스 구현해보시오.<br>\n",
    "1. 다음 코드는 완전하지 않습니다. 최종완성을 시켜주세요.\n",
    "2. sum을 구하기 위해서는 lambda와 reduce를 사용하여 완성해주세요.\n",
    "3. 출력예시<br>\n",
    "f = fibonacci()<br>\n",
    "print(f.getSum())<br>\n",
    "print(f.setfibo())<br>\n",
    "f1 = fibonacci([1,2,3,4,5,6,7])<br>\n",
    "f1.setfibo()<br>\n",
    "\n",
    ">------- 계산결과 ---------------<br>\n",
    "> [1, 2, 3, 4, 5]<br>\n",
    "> 15<br>\n",
    "> [1, 2, 3, 5, 8]<br>\n",
    "> [1, 2, 3, 4, 5, 6, 7]<br>\n",
    "> [1, 2, 3, 5, 8, 13, 21]<br>\n"
   ]
  },
  {
   "cell_type": "code",
   "execution_count": null,
   "metadata": {},
   "outputs": [],
   "source": [
    "class fibonacci:\n",
    "    # 부족한 부분을 채워주세요.\n",
    "    def __init__(self, list1=[1,2,3,4,5]):\n",
    "        self.list1 \n",
    "        self.sum \n",
    "        print(self.list1)\n",
    "    \n",
    "    def getSum(self):\n",
    "        '''\n",
    "        빈칸을 채워주세요.\n",
    "        '''\n",
    "    \n",
    "    \n",
    "    def setfibo(self):\n",
    "        '''\n",
    "        빈칸을 채워주세요.\n",
    "        '''\n",
    "        \n",
    "\n",
    "f = fibonacci()\n",
    "print(f.getSum())\n",
    "print(f.setfibo())\n",
    "f1 = fibonacci([1,2,3,4,5,6,7])\n",
    "f1.setfibo()"
   ]
  },
  {
   "cell_type": "markdown",
   "metadata": {},
   "source": [
    "# 문제 3. 비밀번호를 해독하시오!\n",
    "### 희건이와 영선이는 입학을 위해 호그와트로 떠납니다. <br><br>입학하기 위해서는 문제를 풀어야 하는데요.<br><br>입력값과 출력값은 3-1.png, 3-2.png를 참고하세요.<br>\n",
    "> ----------------------------------------------------------------<br>\n",
    "> passwd = password()<br>\n",
    "> passwd.compareList()<br>\n",
    "> *기본값 출력예시*<br>\n",
    "> ['00001', '00001', '00001', '00001', '00001'] 와 ['00001', '00001', '00001', '00001', '00001']<br>\n",
    "> ['　　#', '　　#', '　　#', '　　#', '　　#']<br><br>\n",
    "> passwd = password([31,31,31,31,31])<br>\n",
    "> passwd.compareList()<br>\n",
    "> *다른 출력 예시*<br>\n",
    "> ['11111', '11111', '11111', '11111', '11111'] 와 ['00001', '00001', '00001', '00001', '00001']<br>\n",
    "> ['#####', '#####', \"#####', '#####', '#####']<br>\n",
    "> ----------------------------------------------------------------<br>\n",
    "> 1. 참고 - 이진수 : https://docs.python.org/ko/3.6/library/functions.html?highlight=bin#bin<br>\n",
    "> 2. zfill 함수 사용<br>\n",
    "> 3. 이진수로 변환하였을 때 숫자로만 이루어지도록 한 후 진행을 해야 합니다. 문자와 숫자가 섞여 있으면 안됩니다.\n",
    "> 4. 리스트 안에 값은 0~31까지입니다. 0미만이거나 32이상일 경우를 고려한 코딩이 필요하지만 안해도 실행되지만 오류가 출력됩니다.(예외경우는 고려안해도 됨.)\n",
    "> 5. 생성자 파라미터는 두개의 리스트이어야 하고 리스트 길이는 5로 고정입니다.\n",
    "> 6. 자신만의 코드로 추가하거나 삭제 가능합니다."
   ]
  },
  {
   "cell_type": "code",
   "execution_count": null,
   "metadata": {},
   "outputs": [],
   "source": [
    "class password:\n",
    "    def __init__(self, list1=[1,1,1,1,1],list2=[1,1,1,1,1]):\n",
    "        self.list1 = list1\n",
    "        self.list2 = list2\n",
    "        self.binary1 = []\n",
    "        self.binary2 = []\n",
    "        \n",
    "        for i in range(len(self.list1)):\n",
    "            '''\n",
    "            빈칸 채워주세요\n",
    "            '''\n",
    "            \n",
    "        for i in range(len(self.list2)):\n",
    "            '''\n",
    "            빈칸 채워주세요\n",
    "            '''\n",
    "\n",
    "        print(self.binary1,'와', self.binary2)\n",
    "        \n",
    "    def compareList(self):\n",
    "        '''\n",
    "        빈칸 채워주세요.\n",
    "        \n",
    "        '''\n",
    "        \n",
    "        \n",
    "passwd = password()\n",
    "passwd.compareList()"
   ]
  },
  {
   "cell_type": "markdown",
   "metadata": {},
   "source": [
    "# 문제 3-1. 시간나면 위에 코드를 발전시켜보세요. \n",
    "## 코드는 아래내용만 들어간다면 작성방식은 자유롭게 하셔도 좋습니다.\n",
    "1. 리스트 내에 들어갈 값의 범위 지정을 위해 **\"2의 몇 제곱을 원하십니까? \"**라는 값을 입력할 수 있도록 하세요.input()\n",
    "2. 리스트 두 개 각각의 길이를 입력할 수 있도록 하세요.input()\n",
    "3. 위에 코드에서 init함수에 예외처리를 해주세요. 예외 처리 우선순위는 다음에 명시되는 순서대로입니다.\n",
    "> 1. https://docs.python.org/ko/3/reference/simple_stmts.html#the-raise-statement<br>\n",
    "     https://docs.python.org/ko/3/reference/compound_stmts.html#the-try-statement<br><br>\n",
    "> 2. 그 외에 raise문, try~except문 사용 예시를 검색해서 적용해주세요.<br><br>\n",
    "> 3. 2의 몇제곱을 원하는지 값을 입력받았을 때 1보다 큰 경우와 0일 경우, 그 외의 경우로 나누어 처리해야 한다.<br>\n",
    "    > 이는 compareList에서도 적용되어야 한다.<br><br>\n",
    "> 4. 예외처리해야 되는 경우<br> \n",
    "    > 1) 두 리스트의 길이는 둘 다 1 이상이어야 하고 아니라면 예외 처리해야 한다.<br>\n",
    "    > 2) 두 리스트의 길이가 같을 때 두 리스트의 값들을 입력받도록 하고 아니라면 예외처리<br>\n",
    "    > 3) 리스트 내의 값은 0 ~ 2^n-1 사이의 값이어야 하고 숫자로만 이루어져 있어야 하고 아닐경우 예외처리(유효한 값 여부)<br>\n",
    "         continue 사용(https://docs.python.org/ko/3/reference/simple_stmts.html#the-continue-statement)\n"
   ]
  },
  {
   "cell_type": "code",
   "execution_count": null,
   "metadata": {},
   "outputs": [],
   "source": []
  }
 ],
 "metadata": {
  "kernelspec": {
   "display_name": "Python 3",
   "language": "python",
   "name": "python3"
  },
  "language_info": {
   "codemirror_mode": {
    "name": "ipython",
    "version": 3
   },
   "file_extension": ".py",
   "mimetype": "text/x-python",
   "name": "python",
   "nbconvert_exporter": "python",
   "pygments_lexer": "ipython3",
   "version": "3.7.0"
  }
 },
 "nbformat": 4,
 "nbformat_minor": 2
}

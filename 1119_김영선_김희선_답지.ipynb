{
 "cells": [
  {
   "cell_type": "markdown",
   "metadata": {},
   "source": [
    "## - 문제 1. 해설 -"
   ]
  },
  {
   "cell_type": "code",
   "execution_count": 1,
   "metadata": {},
   "outputs": [
    {
     "name": "stdout",
     "output_type": "stream",
     "text": [
      "입력값 1 : 20\n",
      "입력값 2 : 4\n",
      "\n",
      "------ 결과 -------\n",
      "\n",
      "덧셈 결과: 24\n",
      "뺄셈 결과: 16\n",
      "곱셈 결과: 80\n",
      "나눗셈 결과: 5.0\n"
     ]
    }
   ],
   "source": [
    "class calculator:\n",
    "     \n",
    "    def setx(self, x):\n",
    "        self.x=x\n",
    "    \n",
    "    def sety(self, y):\n",
    "        self.y=y\n",
    "    \n",
    "    def add(self):\n",
    "        return self.x + self.y\n",
    "    def sub(self):\n",
    "        return self.x - self.y\n",
    "    def mul(self):\n",
    "        return self.x * self.y\n",
    "    def div(self):\n",
    "        return self.x / self.y\n",
    "\n",
    "    \n",
    "    \n",
    "    \n",
    "a = calculator()\n",
    "\n",
    "# input값은 int로 변환해야 사칙연산이 오류없이 실행가능하다.\n",
    "a.setx(int(input(\"입력값 1 : \")))\n",
    "a.sety(int(input(\"입력값 2 : \")))\n",
    "print(\"\\n------ 결과 -------\\n\")\n",
    "print(\"덧셈 결과:\" ,a.add())\n",
    "print(\"뺄셈 결과:\", a.sub())\n",
    "print(\"곱셈 결과:\", a.mul())\n",
    "print(\"나눗셈 결과:\", a.div())"
   ]
  },
  {
   "cell_type": "markdown",
   "metadata": {},
   "source": [
    "## - 문제 2. 해설 -"
   ]
  },
  {
   "cell_type": "code",
   "execution_count": 2,
   "metadata": {},
   "outputs": [
    {
     "name": "stdout",
     "output_type": "stream",
     "text": [
      "[1, 2]\n",
      "3\n",
      "[1, 2]\n",
      "[1, 2, 3, 4, 5, 6, 7]\n"
     ]
    },
    {
     "data": {
      "text/plain": [
       "[1, 2, 3, 5, 8, 13, 21]"
      ]
     },
     "execution_count": 2,
     "metadata": {},
     "output_type": "execute_result"
    }
   ],
   "source": [
    "from functools import reduce\n",
    "class fibonacci:\n",
    "    def __init__(self, list1=[1,2,3,4,5]):\n",
    "        self.list1 = list1\n",
    "        self.sum = reduce(lambda x,y : x+y, self.list1)\n",
    "        print(self.list1)\n",
    "    \n",
    "    def getSum(self):\n",
    "        return self.sum\n",
    "    \n",
    "    \n",
    "    def setfibo(self):\n",
    "        # 리스트 길이가 2이하인 경우 계산 필요 없으므로 원래 리스트 반환\n",
    "        if(len(self.list1)<=2):\n",
    "            return self.list1\n",
    "        else:\n",
    "            # (리스트 길이 = 3)일 경우 list1[2]가 무엇이든 간에 앞에 두 숫자로 인해 두숫자 합이 출력된다.\n",
    "            # ex) [1,2,4] => [1,2,3]\n",
    "            for i in range(2, len(self.list1)):\n",
    "                self.list1[i] = self.list1[i-2]+self.list1[i-1]\n",
    "            return self.list1\n",
    "        \n",
    "f = fibonacci([1,2])\n",
    "print(f.getSum())\n",
    "print(f.setfibo())\n",
    "f1 = fibonacci([1,2,3,4,5,6,7])\n",
    "f1.setfibo()"
   ]
  },
  {
   "cell_type": "markdown",
   "metadata": {},
   "source": [
    "## - 문제 3 해설 -\n",
    "## 월요일 아침부터 머리 아프셨죠...? 압니다...ㅠㅅㅠ\n",
    "## 이 문제는 [카카오] 2017년 하반기 1차 코딩테스트 1번 문제입니다.\n",
    "## 혹시나 지금 못풀었더라도 나중에 꼭 시도해보셨으면 좋겠습니다."
   ]
  },
  {
   "cell_type": "code",
   "execution_count": 3,
   "metadata": {},
   "outputs": [
    {
     "name": "stdout",
     "output_type": "stream",
     "text": [
      "['01111', '01111', '01111', '01111', '01111'] 와 ['00010', '00010', '00010', '00010', '00010']\n",
      "[' ####', ' ####', ' ####', ' ####', ' ####']\n"
     ]
    }
   ],
   "source": [
    "class password:\n",
    "    def __init__(self, list1=[1,1,1,1,1],list2=[1,1,1,1,1]):\n",
    "        self.list1 = list1\n",
    "        self.list2 = list2\n",
    "        self.binary1 = []\n",
    "        self.binary2 = []\n",
    "        \n",
    "        # 리스트 길이만큼 각 값들을 2진수로 변환하여 새로운 리스트에 넣는다.\n",
    "        for i in range(len(self.list1)):\n",
    "                self.binary1.append((bin(self.list1[i]).lstrip('0b')).zfill(5))\n",
    "            \n",
    "        for i in range(len(self.list2)):\n",
    "                self.binary2.append((bin(self.list2[i]).lstrip('0b')).zfill(5))\n",
    "\n",
    "        print(self.binary1,'와', self.binary2)\n",
    "        \n",
    "    def compareList(self):\n",
    "        self.password = []\n",
    "        self.chac = ''\n",
    "        for i in range(5):\n",
    "            # 00000과 00001을 비교(각 리스트의 첫번째 인덱스 문자열 비교)한 후\n",
    "            # 그 다음 인덱스 비교를 위해 초기화 필수\n",
    "            # 초기화하지 않으면 그 전 문자열에 덧붙이는 꼴\n",
    "            self.chac = ''\n",
    "            for j in range(5):\n",
    "                if((int(self.binary1[i][j]) == 0) and (int(self.binary2[i][j]) == 0)):\n",
    "                    self.chac = self.chac+ \" \"\n",
    "                else:\n",
    "                    self.chac = self.chac+\"#\"\n",
    "            self.password.append(self.chac)\n",
    "        print(self.password)\n",
    "        \n",
    "        \n",
    "        \n",
    "passwd = password([15,15,15,15,15],[2,2,2,2,2])\n",
    "passwd.compareList()"
   ]
  },
  {
   "cell_type": "markdown",
   "metadata": {},
   "source": [
    "## - 문제 3-1. 해설 - "
   ]
  },
  {
   "cell_type": "code",
   "execution_count": 4,
   "metadata": {},
   "outputs": [],
   "source": [
    "class password:\n",
    "    try:\n",
    "        def __init__(self):\n",
    "            self.numLength = int(input(\"2의 몇 제곱을 원하십니까? \"))\n",
    "            self.listSize1 = int(input(\"첫번째 리스트 길이는 얼마를 원하십니까? \"))\n",
    "            self.listSize2 = int(input(\"두번째 리스트 길이는 얼마를 원하십니까? \"))\n",
    "            self.list1 = []\n",
    "            self.list2 = []\n",
    "            self.binary1 = []\n",
    "            self.binary2 = []\n",
    "            \n",
    "            \n",
    "            if(self.numLength >= 1): #1보다 큰 경우와 0일 경우, 그 외의 경우로 나누어 처리\n",
    "                if((self.listSize1 >= 1) and (self.listSize2 >= 1)):# 두 리스트의 길이는 둘 다 1 이상\n",
    "                    if((self.listSize1 == self.listSize2)):# 두 리스트의 길이가 같을 때\n",
    "                        for i in range(self.listSize1):\n",
    "                            self.list1.append(input(\"첫번째 리스트에 들어갈 값을 입력해주세요 : \"))\n",
    "                        for i in range(self.listSize2):\n",
    "                            self.list2.append(input(\"두번째 리스트에 들어갈 값을 입력해주세요 : \"))\n",
    "\n",
    "                        # 리스트 값 유효성 검사\n",
    "                        for i in range(self.listSize1):\n",
    "                            if((0 <= int(self.list1[i]) <= 2**self.numLength-1) and (str(self.list1[i]).isdigit() == True)):\n",
    "                                # 0 ~ 2^n-1 사이의 값, 숫자로만 이루어져 있을 때\n",
    "                                continue\n",
    "                            else:\n",
    "                                raise Exception('유효한 값이 아닙니다.') \n",
    "                        for i in range(self.listSize2):\n",
    "                            if((0 <= int(self.list2[i]) <= 2**self.numLength-1) and (str(self.list2[i]).isdigit() == True)):\n",
    "                                continue\n",
    "                            else:\n",
    "                                raise Exception('유효한 값이 아닙니다.')\n",
    "\n",
    "                        # 유효성 검사가 끝나면 2진수로 변환하여 대입\n",
    "                        for i in range(self.listSize1):        \n",
    "                            self.binary1.append((bin(int(self.list1[i]))).lstrip('0b').zfill(self.numLength))\n",
    "                        for i in range(self.listSize2):\n",
    "                            self.binary2.append((bin(int(self.list2[i]))).lstrip('0b').zfill(self.numLength))\n",
    "\n",
    "                        print(self.list1,'와',self.list2,' => ',self.binary1,'와', self.binary2)\n",
    "                        \n",
    "                        \n",
    "                    else:\n",
    "                        raise Exception('두 리스트의 길이가 같지 않습니다.')\n",
    "                        \n",
    "                        \n",
    "                else:\n",
    "                    raise Exception('리스트 길이가 유효하지 않습니다. 0보다 큰 값을 넣어주세요.')\n",
    "                    \n",
    "            # 2의 0제곱일 때, 값은 0과 1만 가능하다.\n",
    "            elif(self.numLength == 0):\n",
    "                if((self.listSize1 >= 1) and (self.listSize2 >= 1)):\n",
    "                    if((self.listSize1 == self.listSize2)):\n",
    "                        for i in range(self.listSize1):\n",
    "                            self.list1.append(input(\"첫번째 리스트에 들어갈 값을 입력해주세요 : \"))\n",
    "                        for i in range(self.listSize2):\n",
    "                            self.list2.append(input(\"두번째 리스트에 들어갈 값을 입력해주세요 : \"))\n",
    "\n",
    "\n",
    "                        for i in range(self.listSize1):\n",
    "                            if((0 <= int(self.list1[i]) <= 2**self.numLength) and (str(self.list1[i]).isdigit() == True)):\n",
    "                                continue\n",
    "                            else:\n",
    "                                raise Exception('유효한 값이 아닙니다.') \n",
    "                        for i in range(self.listSize2):\n",
    "                            if((0 <= int(self.list2[i]) <= 2**self.numLength) and (str(self.list2[i]).isdigit() == True)):\n",
    "                                continue\n",
    "                            else:\n",
    "                                raise Exception('유효한 값이 아닙니다.')\n",
    "\n",
    "                        # num.Length가 0이므로 0으로 zfill을 채우면 의미가 없습니다. 따라서 1이상의 값이 입력되어야 합니다.\n",
    "                        # 저는 여기서 5로 길이를 맞추었습니다. 각자 원하는 숫자로 입력하여도 됩니다.\n",
    "                        for i in range(self.listSize1):        \n",
    "                            self.binary1.append((bin(int(self.list1[i]))).lstrip('0b').zfill(5))\n",
    "                        for i in range(self.listSize2):\n",
    "                            self.binary2.append((bin(int(self.list2[i]))).lstrip('0b').zfill(5))\n",
    "\n",
    "                        print(self.list1,'와',self.list2,' => ',self.binary1,'와', self.binary2)\n",
    "                        \n",
    "                        \n",
    "                    else:\n",
    "                        raise Exception('두 리스트의 길이가 같지 않습니다.')\n",
    "                        \n",
    "                        \n",
    "                else:\n",
    "                    raise Exception('리스트 길이가 유효하지 않습니다. 0보다 큰 값을 넣어주세요.')\n",
    "                    \n",
    "                    \n",
    "            else:\n",
    "                raise Exception('2의 마이너스 제곱은 처리하지 않습니다.')\n",
    "                \n",
    "    except Exception as e:                           \n",
    "        print(e)\n",
    "                \n",
    "            \n",
    "    def compareList(self):\n",
    "        self.password = []\n",
    "        self.chac = ''\n",
    "        if(self.numLength >=1):\n",
    "            for i in range(self.listSize1):\n",
    "                self.chac = ''\n",
    "                for j in range(self.numLength):\n",
    "                    if((int(self.binary1[i][j]) == 0) and (int(self.binary2[i][j]) == 0)):\n",
    "                        self.chac = self.chac+ \" \"\n",
    "                    else:\n",
    "                        self.chac = self.chac+\"#\"\n",
    "                self.password.append(self.chac)\n",
    "            print(self.password)\n",
    "        elif(self.numLength == 0):\n",
    "            for i in range(self.listSize1):\n",
    "                self.chac = ''\n",
    "                # init함수에서 numLength가 0이었고 zfill은 5로 채웠으므로 5번 루프가 반복되어야 합니다.\n",
    "                for j in range(5):\n",
    "                    if((int(self.binary1[i][j]) == 0) and (int(self.binary2[i][j]) == 0)):\n",
    "                        self.chac = self.chac+ \" \"\n",
    "                    else:\n",
    "                        self.chac = self.chac+\"#\"\n",
    "                self.password.append(self.chac)\n",
    "            print(self.password)"
   ]
  },
  {
   "cell_type": "code",
   "execution_count": 6,
   "metadata": {},
   "outputs": [
    {
     "name": "stdout",
     "output_type": "stream",
     "text": [
      "2의 몇 제곱을 원하십니까? 4\n",
      "첫번째 리스트 길이는 얼마를 원하십니까? 2\n",
      "두번째 리스트 길이는 얼마를 원하십니까? 2\n",
      "첫번째 리스트에 들어갈 값을 입력해주세요 : 1\n",
      "첫번째 리스트에 들어갈 값을 입력해주세요 : 4\n",
      "두번째 리스트에 들어갈 값을 입력해주세요 : 9\n",
      "두번째 리스트에 들어갈 값을 입력해주세요 : 10\n",
      "['1', '4'] 와 ['9', '10']  =>  ['0001', '0100'] 와 ['1001', '1010']\n",
      "['#  #', '### ']\n"
     ]
    }
   ],
   "source": [
    "passwd = password()\n",
    "passwd.compareList()"
   ]
  },
  {
   "cell_type": "markdown",
   "metadata": {},
   "source": [
    "### 이외에도 여러 값들을 넣어 확인해보세요!!\n",
    "### 문제푸느라 고생하셨습니다.\n"
   ]
  }
 ],
 "metadata": {
  "kernelspec": {
   "display_name": "Python 3",
   "language": "python",
   "name": "python3"
  },
  "language_info": {
   "codemirror_mode": {
    "name": "ipython",
    "version": 3
   },
   "file_extension": ".py",
   "mimetype": "text/x-python",
   "name": "python",
   "nbconvert_exporter": "python",
   "pygments_lexer": "ipython3",
   "version": "3.7.0"
  }
 },
 "nbformat": 4,
 "nbformat_minor": 2
}

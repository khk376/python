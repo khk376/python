{
 "cells": [
  {
   "cell_type": "markdown",
   "metadata": {},
   "source": [
    "# - 문제 1. 사칙연산의 기능을 가진 계산기 클래스를 구현해보시오. <br>\n",
    "(단, input()함수를 이용하여 두개의 숫자 입력받아 계산한다.)\n",
    "\n",
    "출력예시\n",
    "\n",
    ">입력값 1 : 24 <br>\n",
    ">입력값 2 : 4 <br>\n",
    ">\n",
    ">------ 계산결과 ------<br>\n",
    "><br>\n",
    ">덧셈 결과: 28 <br>\n",
    ">뺄셈 결과: 20<br>\n",
    ">곱셈 결과: 96<br>\n",
    ">나눗셈 결과: 6<br>"
   ]
  },
  {
   "cell_type": "code",
   "execution_count": 2,
   "metadata": {},
   "outputs": [
    {
     "name": "stdout",
     "output_type": "stream",
     "text": [
      "입력값 1 : 30\n",
      "입력값 2 : 3\n",
      "\n",
      "------ 결과 -------\n",
      "\n",
      "덧셈 결과: 33\n",
      "뺄셈 결과: 27\n",
      "곱셈 결과: 90\n",
      "나눗셈 결과: 10.0\n"
     ]
    }
   ],
   "source": [
    "class calculator:\n",
    "     \n",
    "    def setx(self, x):\n",
    "        self.x=x\n",
    "    \n",
    "    def sety(self, y):\n",
    "        self.y=y\n",
    "    \n",
    "    def add(self):\n",
    "        return self.x + self.y\n",
    "    def sub(self):\n",
    "        return self.x - self.y\n",
    "    def mul(self):\n",
    "        return self.x * self.y\n",
    "    def div(self):\n",
    "        return self.x / self.y\n",
    "\n",
    "a = calculator()\n",
    "\n",
    "a.setx(int(input(\"입력값 1 : \")))\n",
    "a.sety(int(input(\"입력값 2 : \")))\n",
    "print(\"\\n------ 결과 -------\\n\")\n",
    "print(\"덧셈 결과:\" ,a.add())\n",
    "print(\"뺄셈 결과:\", a.sub())\n",
    "print(\"곱셈 결과:\", a.mul())\n",
    "print(\"나눗셈 결과:\", a.div())"
   ]
  },
  {
   "cell_type": "code",
   "execution_count": null,
   "metadata": {},
   "outputs": [],
   "source": [
    "from functools import reduce\n",
    "class fibonacci:\n",
    "    def __init__(self, list1=[1,2,3,4,5]):\n",
    "        self.list1 = list1\n",
    "        self.sum = reduce(lambda x,y : x+y, self.list1)\n",
    "        print(self.list1)\n",
    "    \n",
    "    def getSum(self):\n",
    "        return self.sum\n",
    "    \n",
    "    \n",
    "    def setfibo(self):\n",
    "        if(len(self.list1)<2):\n",
    "            return self.list1\n",
    "        else:\n",
    "            for i in range(2, len(self.list1)):\n",
    "                self.list1[i] = self.list1[i-2]+self.list1[i-1]\n",
    "            return self.list1"
   ]
  },
  {
   "cell_type": "markdown",
   "metadata": {},
   "source": [
    "# 문제 3. 비밀번호를 해독하시오!\n",
    "### 희건이와 영선이는 입학을 위해 호그와트로 떠납니다. <br>입학하기 위해서는 문제를 풀어야 하는데요.<br>입력값과 출력값은 3-1.png, 3-2.png를 참고하세요.<br>\n",
    "> ----------------------------------------------------------------<br>\n",
    "> *기본값 출력예시*<br>\n",
    "> ['00001', '00001', '00001', '00001', '00001'] 와 ['00001', '00001', '00001', '00001', '00001']<br>\n",
    "> ['　　#', '　　#', '　　#', '　　#', '　　#']<br>\n",
    "> ----------------------------------------------------------------<br>\n",
    "> 1. 참고 - 이진수 : https://docs.python.org/ko/3.6/library/functions.html?highlight=bin#bin<br>\n",
    "> 2. zfill 함수 사용<br>\n",
    "> 3. 이진수로 변환하였을 때 숫자로만 이루어지도록 한 후 진행을 해야 합니다. 문자와 숫자가 섞여 있으면 안됩니다.\n",
    "> 4. 리스트 안에 값은 0~31까지입니다. 0미만이거나 32이상일 경우를 고려한 코딩이 필요하지만 안해도 실행되지만 오류가 출력됩니다.(예외경우는 고려안해도 됨.)\n",
    "> 5. 생성자 파라미터는 두개의 리스트이어야 하고 리스트 길이는 5로 고정입니다.\n",
    "> 6. 자신만의 코드로 추가하거나 삭제 가능합니다."
   ]
  },
  {
   "cell_type": "code",
   "execution_count": 13,
   "metadata": {},
   "outputs": [
    {
     "name": "stdout",
     "output_type": "stream",
     "text": [
      "['01000', '11111', '01011', '00001', '00010'] 와 ['00010', '00011', '00100', '00101', '00001']\n",
      "[' # # ', '#####', ' ####', '  # #', '   ##']\n"
     ]
    }
   ],
   "source": [
    "class password:\n",
    "    def __init__(self, list1=[22,2,22,2,2],list2=[11,11,11,11,11]):\n",
    "        self.list1 = list1\n",
    "        self.list2 = list2\n",
    "        self.binary1 = []\n",
    "        self.binary2 = []\n",
    "        for i in range(len(self.list1)):\n",
    "            self.binary1.append((bin(self.list1[i]).lstrip('0b')).zfill(5))\n",
    "            \n",
    "        for i in range(len(self.list2)):\n",
    "            self.binary2.append((bin(self.list2[i]).lstrip('0b')).zfill(5))\n",
    "           \n",
    "        print(self.binary1,'와', self.binary2)\n",
    "        \n",
    "    def compareList(self):\n",
    "        self.password = []\n",
    "        self.chac = ''\n",
    "        for i in range(5):\n",
    "            self.chac = ''\n",
    "            for j in range(5):\n",
    "                if((int(self.binary1[i][j]) == 0) and (int(self.binary2[i][j]) == 0)):\n",
    "                    self.chac = self.chac+ \" \"\n",
    "                else:\n",
    "                    self.chac = self.chac+\"#\"\n",
    "            self.password.append(self.chac)\n",
    "        print(self.password)\n",
    "        \n",
    "pwd = password([8,31,11,1,2],[2,3,4,5,1])\n",
    "pwd.compareList()"
   ]
  },
  {
   "cell_type": "code",
   "execution_count": 8,
   "metadata": {},
   "outputs": [
    {
     "data": {
      "text/plain": [
       "'10101'"
      ]
     },
     "execution_count": 8,
     "metadata": {},
     "output_type": "execute_result"
    }
   ],
   "source": [
    "bin(21).lstrip('0b').zfill(5)"
   ]
  }
 ],
 "metadata": {
  "kernelspec": {
   "display_name": "Python 3",
   "language": "python",
   "name": "python3"
  },
  "language_info": {
   "codemirror_mode": {
    "name": "ipython",
    "version": 3
   },
   "file_extension": ".py",
   "mimetype": "text/x-python",
   "name": "python",
   "nbconvert_exporter": "python",
   "pygments_lexer": "ipython3",
   "version": "3.7.0"
  }
 },
 "nbformat": 4,
 "nbformat_minor": 2
}

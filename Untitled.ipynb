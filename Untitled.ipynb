{
 "cells": [
  {
   "cell_type": "markdown",
   "metadata": {},
   "source": [
    "1. 사칙연산의 기능을 가진 계산기 클래스를 구현해보시오. <br>\n",
    "(단, input()함수를 이용하여 두개의 숫자를 처리한다.)"
   ]
  },
  {
   "cell_type": "code",
   "execution_count": null,
   "metadata": {},
   "outputs": [],
   "source": [
    "class calculator:\n",
    "    \n",
    "    def __init__(self, add, sub, multi, div):\n",
    "        self.add=add\n",
    "        self.sub=sub\n",
    "        self.multi=multi\n",
    "        self.div=div\n",
    "        \n",
    "    def setadd(self, newadd):\n",
    "        return self.add\n",
    "    \n",
    "    def getadd(self, add):\n",
    "        \n",
    "    \n",
    "    def setsub(self, newsub):\n",
    "        return self.sub\n",
    "    \n",
    "    def getsub(self, sub):\n",
    "    \n",
    "    \n",
    "    def setmulti(self, multi):\n",
    "        return self.multi\n",
    "    \n",
    "    def getmulti(self, multi):\n",
    "    \n",
    "    \n",
    "    def setdiv(self, div):\n",
    "        return self.div\n",
    "    \n",
    "    def getdiv(self, div):\n",
    "    \n"
   ]
  },
  {
   "cell_type": "code",
   "execution_count": 11,
   "metadata": {},
   "outputs": [
    {
     "name": "stdout",
     "output_type": "stream",
     "text": [
      "입력값 1 : 8\n",
      "입력값 2 : 2\n",
      "\n",
      "------ 결과 -------\n",
      "\n",
      "덧셈 결과: 10\n",
      "뺄셈 결과: 6\n",
      "곱셈 결과: 16\n",
      "나눗셈 결과: 4\n"
     ]
    }
   ],
   "source": [
    "class calculator:\n",
    "     \n",
    "    def setx(self, x):\n",
    "        self.x=x\n",
    "    \n",
    "    def sety(self, y):\n",
    "        self.y=y\n",
    "    \n",
    "    def add(self):\n",
    "        return self.x + self.y\n",
    "    def sub(self):\n",
    "        return self.x - self.y\n",
    "    def mul(self):\n",
    "        return self.x * self.y\n",
    "    def div(self):\n",
    "        return self.x // self.y\n",
    "\n",
    "a = calculator()\n",
    "\n",
    "a.setx(int(input(\"입력값 1 : \")))\n",
    "a.sety(int(input(\"입력값 2 : \")))\n",
    "print(\"\\n------ 결과 -------\\n\")\n",
    "print(\"덧셈 결과:\" ,a.add())\n",
    "print(\"뺄셈 결과:\", a.sub())\n",
    "print(\"곱셈 결과:\", a.mul())\n",
    "print(\"나눗셈 결과:\", a.div())"
   ]
  },
  {
   "cell_type": "code",
   "execution_count": null,
   "metadata": {},
   "outputs": [],
   "source": []
  }
 ],
 "metadata": {
  "kernelspec": {
   "display_name": "Python 3",
   "language": "python",
   "name": "python3"
  },
  "language_info": {
   "codemirror_mode": {
    "name": "ipython",
    "version": 3
   },
   "file_extension": ".py",
   "mimetype": "text/x-python",
   "name": "python",
   "nbconvert_exporter": "python",
   "pygments_lexer": "ipython3",
   "version": "3.7.0"
  }
 },
 "nbformat": 4,
 "nbformat_minor": 2
}

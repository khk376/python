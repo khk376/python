{
 "cells": [
  {
   "cell_type": "markdown",
   "metadata": {},
   "source": [
    "# 파이썬 형식화\n",
    "\n",
    "1. %s : 문자열\n",
    "2. %d : 정수\n",
    "3. %f : 부동소수점 실수\n",
    "\n",
    "   ===> 파이썬에서는 복잡한 출력을 위해, 문자열에 대한 형식화를 지원"
   ]
  },
  {
   "cell_type": "code",
   "execution_count": 1,
   "metadata": {},
   "outputs": [
    {
     "name": "stdout",
     "output_type": "stream",
     "text": [
      "encore %s\n"
     ]
    }
   ],
   "source": [
    "data1 = 'encore %s'\n",
    "print(data1)"
   ]
  },
  {
   "cell_type": "code",
   "execution_count": 6,
   "metadata": {},
   "outputs": [
    {
     "data": {
      "text/plain": [
       "'인생은 정말 아름다워'"
      ]
     },
     "execution_count": 6,
     "metadata": {},
     "output_type": "execute_result"
    }
   ],
   "source": [
    "data1 = '인생은 정말 %s다워' % '아름'\n",
    "\n",
    "data1"
   ]
  },
  {
   "cell_type": "code",
   "execution_count": 8,
   "metadata": {},
   "outputs": [
    {
     "data": {
      "text/plain": [
       "'저 정말로 집에 몹시 가고싶습니다'"
      ]
     },
     "execution_count": 8,
     "metadata": {},
     "output_type": "execute_result"
    }
   ],
   "source": [
    "# 내가 만든 그냥 그런 문제\n",
    "\n",
    "data2 = '저 %s' % '정말로 집에 몹시 %s' % '가고싶습니다'\n",
    "data2"
   ]
  },
  {
   "cell_type": "code",
   "execution_count": 17,
   "metadata": {},
   "outputs": [
    {
     "data": {
      "text/plain": [
       "'오늘의 미세먼지 수치는 최악 이고 강수량은 95.000000퍼센트입니다'"
      ]
     },
     "execution_count": 17,
     "metadata": {},
     "output_type": "execute_result"
    }
   ],
   "source": [
    "# 선생님이 만든 문제를 응용한 좋은 문제\n",
    "\n",
    "data3= \"오늘의 미세먼지 수치는 %s 이고 강수량은 %f퍼센트입니다\" % ('최악', 95)\n",
    "data3"
   ]
  },
  {
   "cell_type": "code",
   "execution_count": null,
   "metadata": {},
   "outputs": [],
   "source": []
  }
 ],
 "metadata": {
  "kernelspec": {
   "display_name": "Python 3",
   "language": "python",
   "name": "python3"
  },
  "language_info": {
   "codemirror_mode": {
    "name": "ipython",
    "version": 3
   },
   "file_extension": ".py",
   "mimetype": "text/x-python",
   "name": "python",
   "nbconvert_exporter": "python",
   "pygments_lexer": "ipython3",
   "version": "3.7.0"
  }
 },
 "nbformat": 4,
 "nbformat_minor": 2
}

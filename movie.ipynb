{
 "cells": [
  {
   "cell_type": "code",
   "execution_count": 2,
   "metadata": {},
   "outputs": [],
   "source": [
    "# 다음 리스트를 이용하여 현재 상영중인 영화 '박물관이 진짜 살아있다' 를 출력하시오. (다른 영화들도 출력해보시오.)\n",
    "mov = [[['어바웃', '진실', '여름','이즈'],['아름다워', '살아있다','본'],['불편한', '진짜', '완벽한']],\n",
    "       [['동네', '사람들', '창궐','몬스터의'], ['출동', '구스범스', '박물관이']],\n",
    "       [['인생은', '타임', '바울'],['스타','역습']]]"
   ]
  },
  {
   "cell_type": "code",
   "execution_count": 3,
   "metadata": {},
   "outputs": [
    {
     "name": "stdout",
     "output_type": "stream",
     "text": [
      "박물관이 진짜 살아있다\n"
     ]
    }
   ],
   "source": [
    "print(mov[1][1][2], mov[0][2][1],mov[0][1][1])"
   ]
  },
  {
   "cell_type": "code",
   "execution_count": 4,
   "metadata": {},
   "outputs": [
    {
     "name": "stdout",
     "output_type": "stream",
     "text": [
      "인생은 아름다워\n"
     ]
    }
   ],
   "source": [
    "# 영화 '인생은 아름다워'\n",
    "print(mov[2][0][0],mov[0][1][0])"
   ]
  },
  {
   "cell_type": "code",
   "execution_count": 5,
   "metadata": {},
   "outputs": [
    {
     "name": "stdout",
     "output_type": "stream",
     "text": [
      "어바웃 타임\n"
     ]
    }
   ],
   "source": [
    "# 영화 '어바웃 타임'\n",
    "print(mov[0][0][0], mov[2][0][1])"
   ]
  }
 ],
 "metadata": {
  "kernelspec": {
   "display_name": "Python 3",
   "language": "python",
   "name": "python3"
  },
  "language_info": {
   "codemirror_mode": {
    "name": "ipython",
    "version": 3
   },
   "file_extension": ".py",
   "mimetype": "text/x-python",
   "name": "python",
   "nbconvert_exporter": "python",
   "pygments_lexer": "ipython3",
   "version": "3.7.0"
  }
 },
 "nbformat": 4,
 "nbformat_minor": 2
}

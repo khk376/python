{
 "cells": [
  {
   "cell_type": "markdown",
   "metadata": {},
   "source": [
    "# 사용자 정의 파이썬 클래스 개발 방법 학습\n",
    "1. 주요 키워드 및 기호 : self, __\n",
    "- 자바와 비교시 : 데이터 표현을 위한 전용 구조의 클래스(DTO/VO/Bean)\n",
    "- 자바의 문법 : 멤버변수, 기본생성자, 생성자, getXxx()/setXxx()/toString()\n",
    "- 자바의 상위클래스 : Object<br><br>\n",
    "- python 문법 : 멤버변수, __init__(), 사용자정의함수명, __str__()\n",
    "- python 상위클래스 : Object"
   ]
  },
  {
   "cell_type": "markdown",
   "metadata": {},
   "source": [
    "### 파이썬 클래스\n",
    "\n",
    "1. 사용자 정의 클래스 개발 방법\n",
    "2. 멤버 변수의 종류<br>\n",
    "** 클래스 변수: 객체를 통틀어서 하나만 생성되고 모든 객체가 공유하는 변수<br>\n",
    "** 인스턴스 변수: 생성되는 객체 즉 인스턴스별로 별도로 생성되는 변수<br>\n",
    "** 주요 키워드:self가 적용된 변수는 모두 다 instance 변수<br>\n",
    "3. 접근자: 정보 은닉 및 유효성 검증을 위해 private으로 정의하는 방법 - 변수명 앞단에 __ 선언\n",
    "4. 특수 메소드\n",
    "\n",
    "\n",
    ">자바와 비교시: 멤버 변수 관점\n",
    "1. static 변수 - static 키워드로 선언 : 객체 생성없이 사용 가능\n",
    "- instance 변수 - non-static 으로 선언 : 객체 생성 필수(instance)\n",
    "\n",
    ">자바와 비교시: 접근자 관점(access modifier)\n",
    "1. private / default / protected / public 4가지\n",
    "\n",
    ">용어\n",
    "1. 메소드: 클래스 내부에 구현 가능\n",
    "- 함수 : 클래스와 독립적으로 구현되는 기능"
   ]
  },
  {
   "cell_type": "markdown",
   "metadata": {},
   "source": [
    "** 파이썬 클래스 개발 문법**\n",
    "\n",
    "1. class 키워드\n",
    "- 생성자: __init__(self)\n",
    "- 클래스 내에 구현하는 함수의 첫번째 parameter : self\n",
    "- 멤버 변수 선언 문법:init() 내부에 self.변수명"
   ]
  },
  {
   "cell_type": "markdown",
   "metadata": {},
   "source": [
    "# 인스턴스 및 클래스 변수\n"
   ]
  },
  {
   "cell_type": "markdown",
   "metadata": {},
   "source": [
    "# 독립된 함수 개발 및 호출, 클래스 내부에 구현하는 내장함수"
   ]
  },
  {
   "cell_type": "code",
   "execution_count": null,
   "metadata": {},
   "outputs": [],
   "source": [
    "def getIntValue():\n",
    "    print(\"클래스 외부의 getIntValue() 함수\")\n",
    "    return 20"
   ]
  },
  {
   "cell_type": "code",
   "execution_count": null,
   "metadata": {},
   "outputs": [],
   "source": [
    "data=getIntValue()\n",
    "data"
   ]
  },
  {
   "cell_type": "code",
   "execution_count": null,
   "metadata": {},
   "outputs": [],
   "source": []
  },
  {
   "cell_type": "code",
   "execution_count": null,
   "metadata": {},
   "outputs": [],
   "source": [
    "# 사용자 정의 클래스 + 메소드, 변수 -> class 변수(필요성)\n",
    "\n",
    "class UserClass:\n",
    "    #생성자\n",
    "    def __init__(self, data):\n",
    "        #instance 변수\n",
    "        self.instanceVar =data\n",
    "        print(\"생성자\")\n",
    "\n",
    "        # 멤버 변수값 반환하는 메소드\n",
    "        '''\n",
    "            호출 방법: 객체 생성 직후 참조 변수로만 호출 가능한 객체에 종속된 함수\n",
    "        '''\n",
    "    def getInstanceVar(self):\n",
    "            return self.instanceVar\n",
    "    '''\n",
    "        클래스 내에 구현된 함수이나 self라는 인수값이 없기 때문에\n",
    "        해당 클래스에 종속된 함수가 아님\n",
    "        외부 함수로 개발된 구조\n",
    "        호출 방법: 객체 생성과 무관하게 함수명으로만 호출\n",
    "        \n",
    "        결론: 개발 함수로 호출되는 것들은 클래스내에 개발하지 마셈!!!!!!!!!!!!\n",
    "\n",
    "    '''    \n",
    "  #  def getInstanceVar2(self):\n",
    "   #         return instanceVar\n",
    "        \n",
    "    def getInstanceVar2():\n",
    "            return \"data\""
   ]
  },
  {
   "cell_type": "code",
   "execution_count": null,
   "metadata": {},
   "outputs": [],
   "source": [
    "i1=UserClass('변수')\n",
    "data=i1.getInstanceVar()\n",
    "print(data)"
   ]
  },
  {
   "cell_type": "code",
   "execution_count": null,
   "metadata": {},
   "outputs": [],
   "source": [
    "data2=getInstanceVar2()\n",
    "data2"
   ]
  },
  {
   "cell_type": "code",
   "execution_count": null,
   "metadata": {},
   "outputs": [],
   "source": [
    "''' 문제\n",
    "? person 클래스 개발해보기\n",
    "멤버 변수: name/age\n",
    "생성자: name에 한해서만 기본 초기화, 단 객체 생성시 \n",
    "        이름을 인수값으로 적용할 경우 멤버변수에 대입( 함수 parameter 초기화)\n",
    "name 멤버 변수값 수정(setName)/name 멤버 변수값 반환(getName)\n",
    "두개의 객체 생성 및 데이터값들 출력\n",
    "'''"
   ]
  },
  {
   "cell_type": "code",
   "execution_count": null,
   "metadata": {},
   "outputs": [],
   "source": [
    "# 사용자 정의 클래스 + 메소드, 변수 -> class 변수(필요성)\n",
    "\n",
    "class person:\n",
    "    def __init__(self, name='z', age=20):\n",
    "        #instance 변수\n",
    "        self.name =name\n",
    "        self.age=age\n",
    "\n",
    "    def setName(self, myName):\n",
    "        return self.myName\n",
    "        \n",
    "    def getName(self):\n",
    "        return self.name\n",
    "    \n",
    "    def getAge(self):\n",
    "        return self.age"
   ]
  },
  {
   "cell_type": "code",
   "execution_count": null,
   "metadata": {},
   "outputs": [],
   "source": [
    "a= person('희건', 26)\n",
    "print(a.getName(), a.getAge())"
   ]
  },
  {
   "cell_type": "code",
   "execution_count": null,
   "metadata": {},
   "outputs": [],
   "source": [
    "a= person()\n",
    "print(a.getName(), a.getAge())"
   ]
  },
  {
   "cell_type": "code",
   "execution_count": null,
   "metadata": {},
   "outputs": [],
   "source": [
    "a= person('하나')\n",
    "print(a.getName())"
   ]
  },
  {
   "cell_type": "code",
   "execution_count": 39,
   "metadata": {},
   "outputs": [],
   "source": [
    "# 사용자 정의 클래스 + 메소드, 변수 -> class 변수(필요성)\n",
    "\n",
    "class person:\n",
    "    def __init__(self, name, age=20):\n",
    "        self.name =name\n",
    "        self.age=age\n",
    "\n",
    "    def setName(self, myName):\n",
    "        return self.myName\n",
    "        \n",
    "    def getName(self):\n",
    "        return self.name\n",
    "    \n",
    "    def getAge(self):\n",
    "        return self.age"
   ]
  },
  {
   "cell_type": "code",
   "execution_count": 40,
   "metadata": {},
   "outputs": [
    {
     "ename": "TypeError",
     "evalue": "__init__() missing 1 required positional argument: 'name'",
     "output_type": "error",
     "traceback": [
      "\u001b[1;31m---------------------------------------------------------------------------\u001b[0m",
      "\u001b[1;31mTypeError\u001b[0m                                 Traceback (most recent call last)",
      "\u001b[1;32m<ipython-input-40-1bfcd4fdbbd5>\u001b[0m in \u001b[0;36m<module>\u001b[1;34m()\u001b[0m\n\u001b[0;32m      5\u001b[0m '''\n\u001b[0;32m      6\u001b[0m \u001b[1;33m\u001b[0m\u001b[0m\n\u001b[1;32m----> 7\u001b[1;33m \u001b[0ma\u001b[0m\u001b[1;33m=\u001b[0m \u001b[0mperson\u001b[0m\u001b[1;33m(\u001b[0m\u001b[1;33m)\u001b[0m \u001b[1;31m# 오류 발생\u001b[0m\u001b[1;33m\u001b[0m\u001b[0m\n\u001b[0m\u001b[0;32m      8\u001b[0m \u001b[0mprint\u001b[0m\u001b[1;33m(\u001b[0m\u001b[0ma\u001b[0m\u001b[1;33m.\u001b[0m\u001b[0mgetName\u001b[0m\u001b[1;33m(\u001b[0m\u001b[1;33m)\u001b[0m\u001b[1;33m,\u001b[0m \u001b[0ma\u001b[0m\u001b[1;33m.\u001b[0m\u001b[0mgetAge\u001b[0m\u001b[1;33m(\u001b[0m\u001b[1;33m)\u001b[0m\u001b[1;33m)\u001b[0m\u001b[1;33m\u001b[0m\u001b[0m\n",
      "\u001b[1;31mTypeError\u001b[0m: __init__() missing 1 required positional argument: 'name'"
     ]
    }
   ],
   "source": [
    "'''\n",
    "    자바는 객체 생성 시점에 멤버 변수는 자동 초기화\n",
    "    파이썬은 객체 생성 시점에 명시적인 _인수 초기화_가 없는 한 _자동 초기화 되지 않음_!!\n",
    "    \n",
    "'''\n",
    "\n",
    "a= person() # 오류 발생\n",
    "print(a.getName(), a.getAge())"
   ]
  },
  {
   "cell_type": "code",
   "execution_count": 41,
   "metadata": {},
   "outputs": [],
   "source": [
    "class person1:\n",
    "    def __init__(self):\n",
    "        self.name='히건'\n",
    "        "
   ]
  },
  {
   "cell_type": "code",
   "execution_count": 42,
   "metadata": {},
   "outputs": [],
   "source": [
    "p3 = person1()"
   ]
  },
  {
   "cell_type": "code",
   "execution_count": null,
   "metadata": {},
   "outputs": [],
   "source": [
    "'''\n",
    "1. 문제 : 지금까지의 파이썬 문법 이해를 위한 문제\n",
    "2. 제출자 : 김희건\n",
    "3. 제출일 : 181113\n",
    "4. 응시자 : \n",
    "\n",
    "문제1. \n",
    "\n",
    "'''\n",
    "\n"
   ]
  },
  {
   "cell_type": "code",
   "execution_count": null,
   "metadata": {},
   "outputs": [],
   "source": [
    "def getIntValue():\n",
    "    print(\"맘모스 카페\\n\")\n",
    "    return Mammoth\n",
    "    \n",
    "class Mammoth:\n",
    "    def __init__(self, drink='바닐라라떼', price=3500):\n",
    "        self.drink =drink\n",
    "        self.price=price\n",
    "\n",
    "    def setDrink(self, newDrink):\n",
    "        return self.newDrink\n",
    "        \n",
    "    def getDrink(self):\n",
    "        return self.drink\n",
    "    \n",
    "    def setPrice(self, newPrice):\n",
    "        return self.newPrice\n",
    "    \n",
    "    def getPrice(self):\n",
    "        return self.price\n",
    "        \n",
    "        \n",
    "def getEnd():\n",
    "        return \"수정완료\""
   ]
  },
  {
   "cell_type": "code",
   "execution_count": null,
   "metadata": {},
   "outputs": [],
   "source": [
    "data=getIntValue()\n",
    "a=Mammoth()\n",
    "print(a.getDrink(), a.getPrice())\n",
    "\n",
    "c=Mammoth('바닐라라떼', 2600)\n",
    "print(c.getDrink(), c.getPrice())\n",
    "\n",
    "data2=getEnd()\n",
    "data2\n",
    "\n",
    "# getIntValue() 함수를 사용하여 '맘모스카페' 출력\n",
    "# 맘모스카페 바닐라라떼 메뉴의 기본정보 출력\n",
    "# 바닐라라떼의 가격을 900원 낮추어 출력\n",
    "# 클래스 외부에 '수정완료' 출력"
   ]
  },
  {
   "cell_type": "code",
   "execution_count": null,
   "metadata": {},
   "outputs": [],
   "source": [
    "class DA_member:\n",
    "    def __init__(self, capt = '종훈', num = 28):\n",
    "        self.capt = capt\n",
    "        self.num = num\n",
    "        \n",
    "    def setInfo(self, newCapt, newNum):\n",
    "        self.capt = newCapt\n",
    "        self.num = newNum\n",
    "        return self.capt, self.num\n",
    "        \n",
    "    def getAll(self):\n",
    "        return self.capt, self.num\n",
    "\n",
    "def SGB(mess, fromWho):\n",
    "        print('구글 캐나다 CEO, 검머외 종훈이형에게..\\n\\n{}\\n\\n{}로부터'.format(mess, fromWho))\n",
    "        \n",
    "# 수정하기 전 DA반 회장님과 인원 (기본값 출력)\n",
    "\n",
    "# 반장을 동원이로, 인원수는 27명으로 수정\n",
    "\n",
    "# 위랑 비슷하긴 하지만, 반 전체 내용을 출력\n",
    "\n",
    "# 종훈이형에게 보내는 메세지"
   ]
  },
  {
   "cell_type": "code",
   "execution_count": null,
   "metadata": {},
   "outputs": [],
   "source": [
    "a=DA_member()\n",
    "print(a.getAll())\n",
    "b=DA_member('동원',27)\n",
    "print(b.getAll())\n",
    "\n",
    "data=SGB('잘가!','병길')\n",
    "data"
   ]
  },
  {
   "cell_type": "markdown",
   "metadata": {},
   "source": [
    "## class 변수 \n",
    "1. class 변수란? class내에 선언되는 변수, 생성되는 모든 객체가 공유\n",
    "- 문제 제시후 직접 개발 해 보기"
   ]
  },
  {
   "cell_type": "code",
   "execution_count": null,
   "metadata": {},
   "outputs": [],
   "source": [
    "'''\n",
    "    자바 기준 : 객체 생성없이 실제 실행시에 사용 가능한 변수\n",
    "                static 변수\n",
    "                호출 문법 : class명.변수명\n",
    "                \n",
    "'''\n",
    "class people:\n",
    "    no =0\n",
    "    def __init__(self, age=1):\n",
    "        people.no = people.no+1\n",
    "        self.age = age"
   ]
  },
  {
   "cell_type": "code",
   "execution_count": null,
   "metadata": {},
   "outputs": [],
   "source": [
    "# no 변수 공간은 1개, age 변수 각 객체별 개별 생성. 따라서 두개!\n",
    "p11=people()\n",
    "print(p11.no)\n",
    "p12=people()\n",
    "print(p11.no)\n",
    "print(p11.age)\n",
    "print(people.no)"
   ]
  },
  {
   "cell_type": "markdown",
   "metadata": {},
   "source": [
    "# private 변수\n",
    "1. 문법 : 언더바 두개로 선언\n",
    "2. 권장사항 : 변수가 private인 경우 set/getXxx메소드 추가 구현 권장\n",
    "    단, setXxx() 는 유효성 검증코드 포함"
   ]
  },
  {
   "cell_type": "code",
   "execution_count": null,
   "metadata": {},
   "outputs": [],
   "source": [
    "# 외부에서 호출 불가능한 데이터 관리\n",
    "# 가령 age 등은 1살 이상인 유효한 데이터에 한해서 저장 보장\n",
    "# 유효성 검증 실행후 대입\n",
    "# 주의사항 : 변수에는 직접 접근 불가\n",
    "# 은닉성(encapsulation)\n",
    "\n",
    "class people2:\n",
    "    def __init__(self, name=\"이이\", age=0):\n",
    "        self.name=name\n",
    "        self.__age=age"
   ]
  },
  {
   "cell_type": "code",
   "execution_count": null,
   "metadata": {},
   "outputs": [],
   "source": [
    "p6=people2()\n",
    "print(p6.name)"
   ]
  },
  {
   "cell_type": "code",
   "execution_count": null,
   "metadata": {},
   "outputs": [],
   "source": [
    "print(p6.age)"
   ]
  },
  {
   "cell_type": "markdown",
   "metadata": {},
   "source": [
    "# 생성자와 소멸자\n",
    "\n",
    " > 1. init() : 생성자(constructor)는 객체가 생성될 때 객체를 기본값으로 초기화<br>\n",
    " > 파이썬에서는 생성자의 이름으로 __init__() 사용<br>\n",
    " > 객체 생성시 호출(class 이름으로 호출)<br>\n",
    " > 2. del() : 객체가 삭제시 자동 호출되는 함수<br>\n",
    "  > del 참조변수명으로 자동 호출\n",
    " "
   ]
  },
  {
   "cell_type": "code",
   "execution_count": null,
   "metadata": {},
   "outputs": [],
   "source": [
    "class people7:\n",
    "    def __init__(self):\n",
    "        print(\"생성자-객체 생성시 초기화 로직\")\n",
    "    def __del__(self):\n",
    "        print(\"소멸자-자원반환 로직이 필요한 경우 개발\")"
   ]
  },
  {
   "cell_type": "code",
   "execution_count": null,
   "metadata": {},
   "outputs": [],
   "source": [
    "p7=people7()"
   ]
  },
  {
   "cell_type": "code",
   "execution_count": null,
   "metadata": {},
   "outputs": [],
   "source": [
    "del p7"
   ]
  },
  {
   "cell_type": "markdown",
   "metadata": {},
   "source": [
    "# 특수메소드\n",
    "1.\\__init__: 생성자★<br>\n",
    "2.\\__str__: 자바의 toString과 흡사, print() 자동 호출<br>\n",
    "3.\\__len__: 길이 반환로직으로 재정의 권장"
   ]
  },
  {
   "cell_type": "code",
   "execution_count": null,
   "metadata": {},
   "outputs": [],
   "source": [
    "class Book:\n",
    "    def __init__(self, title, author, pages):\n",
    "        self.title = title\n",
    "        self.author = author\n",
    "        self.pages = pages\n",
    "    # print() 내부에서 참조 변수 출력시 자동 호출\n",
    "    # java의 toString()\n",
    "    def __str__(self):\n",
    "        return \"제목:%s , 저자:%s, 페이지:%s \" % (self.title, self.author, self.pages)\n",
    "\n",
    "    # page값 반환 로직, 기존 다른 내장타입들의 len()함수와 같은 용도로 사용\n",
    "    # 재정의 시 가급적 길이 반환 로직으로 개발 권장\n",
    "    def __len__(self):\n",
    "        return self.pages\n",
    "\n",
    "book = Book(\"Data Structure\", \"bookMan\", 200)\n",
    "print(str(book)) # 동일 코드 print(book)\n",
    "print(len(book))"
   ]
  },
  {
   "cell_type": "markdown",
   "metadata": {},
   "source": [
    "4. 객체의 연산시에 사용되는 사칙연산 관련 특수 메소드 재정의하기"
   ]
  },
  {
   "cell_type": "code",
   "execution_count": null,
   "metadata": {},
   "outputs": [],
   "source": [
    "class SpecialMethod:\n",
    "    def __init__(self, x, y):\n",
    "        self.x = x\n",
    "        self.y = y\n",
    "        \n",
    "    # 이 메소드를 보유한 객체의 x 멤버 변수와 parameter로 유입되는 데이터 +\n",
    "    def __add__(self, addX):\n",
    "        return self.x + addX"
   ]
  },
  {
   "cell_type": "code",
   "execution_count": 31,
   "metadata": {},
   "outputs": [],
   "source": [
    "# specialMethod가 보유한 add라는 메소드 호출해서 사용해 보기\n"
   ]
  },
  {
   "cell_type": "code",
   "execution_count": 32,
   "metadata": {},
   "outputs": [],
   "source": [
    "class SpecialMethod2:\n",
    "    def __init__(self, x, y):\n",
    "        self.x = x\n",
    "        self.y = y\n",
    "        \n",
    "    # 이 메소드를 보유한 객체의 x 멤버 변수와 parameter로 유입되는 데이터 +\n",
    "    # 두개의 객체들이 보유한 x값과 y값들끼리 + 연산을 해야 하는 상황\n",
    "    # 두개의 객체들 + 연산시 자동 호출\n",
    "    # s21 + s22\n",
    "    def __add__(self, add):\n",
    "        return SpecialMethod2(self.x + add.x, self.y + add.y)\n",
    "    \n",
    "    # 두개의 객체 멤버변수들 비교. True or False 반환\n",
    "    # 언제 호출되는지? ==\n",
    "    def __eq__(self, you):\n",
    "        print('__eq__ 호출 확인')\n",
    "        return self.x == you.x and self.y ==you.y\n",
    "    \n",
    "    #(x, y)값 구조로 반환\n",
    "    def __str__(self):\n",
    "        return '(%d, %d)' % (self.x, self.y) "
   ]
  },
  {
   "cell_type": "code",
   "execution_count": 33,
   "metadata": {},
   "outputs": [],
   "source": [
    "# SpecialMethod2 가 보유한 add라는 메소드 호출해서 사용해보기\n",
    "# 단, 두개의 SpecialMethod2 객체들의 x값, y값들끼리 더하는 연산 결과로 반환해주기"
   ]
  },
  {
   "cell_type": "code",
   "execution_count": 34,
   "metadata": {},
   "outputs": [
    {
     "name": "stdout",
     "output_type": "stream",
     "text": [
      "(40, 60)\n"
     ]
    }
   ],
   "source": [
    "s21=SpecialMethod2(10, 20)\n",
    "s22=SpecialMethod2(30, 40)\n",
    "v= s21 + s22\n",
    "print(v) # (40, 60) -> print(str(v))"
   ]
  },
  {
   "cell_type": "code",
   "execution_count": 35,
   "metadata": {},
   "outputs": [
    {
     "name": "stdout",
     "output_type": "stream",
     "text": [
      "__eq__ 호출 확인\n",
      "False\n",
      "__eq__ 호출 확인\n",
      "True\n"
     ]
    }
   ],
   "source": [
    "print(s21 == s22)\n",
    "s23 = SpecialMethod2(30, 40)\n",
    "print(s22 == s23)"
   ]
  },
  {
   "cell_type": "code",
   "execution_count": null,
   "metadata": {},
   "outputs": [],
   "source": [
    "\n",
    "다음 진행할 python?\n",
    "-> 상속, 다형성(OOP) -> FileIO -> 정규표현식 -> 크롤링\n"
   ]
  },
  {
   "cell_type": "code",
   "execution_count": null,
   "metadata": {},
   "outputs": [],
   "source": []
  },
  {
   "cell_type": "code",
   "execution_count": null,
   "metadata": {},
   "outputs": [],
   "source": []
  },
  {
   "cell_type": "code",
   "execution_count": null,
   "metadata": {},
   "outputs": [],
   "source": []
  }
 ],
 "metadata": {
  "kernelspec": {
   "display_name": "Python 3",
   "language": "python",
   "name": "python3"
  },
  "language_info": {
   "codemirror_mode": {
    "name": "ipython",
    "version": 3
   },
   "file_extension": ".py",
   "mimetype": "text/x-python",
   "name": "python",
   "nbconvert_exporter": "python",
   "pygments_lexer": "ipython3",
   "version": "3.7.0"
  }
 },
 "nbformat": 4,
 "nbformat_minor": 2
}

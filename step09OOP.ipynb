{
 "cells": [
  {
   "cell_type": "markdown",
   "metadata": {},
   "source": [
    "# 상속과 다형성\n",
    "\n",
    "1. 코드의 재사용성을 위한 구조\n",
    "2. 상속 : 이미 존재하는 클래스를 상속받아 새로운 자식 클래스 생성\n",
    "- 다형성 : 상속 관계에서 동일한 부모 클래스를 상속받아서 작성된 자식 클래스들을 동일하게 처리"
   ]
  },
  {
   "cell_type": "markdown",
   "metadata": {},
   "source": [
    "## 상속\n",
    "\n",
    "1. 상속 문법<br>\n",
    "&nbsp;&nbsp;&nbsp;클래스 선언구 - class 자식클래스명(부모클래스명)<br>\n",
    "&nbsp;&nbsp;&nbsp;자식 생성자에서 부모 생성자 호출 - super().\\__init__(인수)\n",
    "- 메소드 재정의\n"
   ]
  },
  {
   "cell_type": "code",
   "execution_count": null,
   "metadata": {},
   "outputs": [],
   "source": [
    "# 부모 클래스\n",
    "class Parent:\n",
    "    def __init__(self, name):\n",
    "        self.name = name\n",
    "        \n",
    "    def getName(self):\n",
    "        return self.name\n",
    "\n",
    "# 자식 클래스\n",
    "class Child(Parent):\n",
    "    def __init__(self, name, age):\n",
    "        super().__init__(name)\n",
    "        self.age = age\n",
    "    \n",
    "    def printAll(self):\n",
    "        print(self.name, ' ', str(10))"
   ]
  },
  {
   "cell_type": "code",
   "execution_count": null,
   "metadata": {},
   "outputs": [],
   "source": [
    "p = Child('유재석', 10)"
   ]
  },
  {
   "cell_type": "code",
   "execution_count": null,
   "metadata": {},
   "outputs": [],
   "source": [
    "p.printAll()"
   ]
  },
  {
   "cell_type": "code",
   "execution_count": null,
   "metadata": {},
   "outputs": [],
   "source": [
    "print(p.getName())"
   ]
  },
  {
   "cell_type": "markdown",
   "metadata": {},
   "source": [
    "## 메소드 재정의"
   ]
  },
  {
   "cell_type": "code",
   "execution_count": null,
   "metadata": {},
   "outputs": [],
   "source": [
    "class Animal:\n",
    "    def __init__(self, name=\"\"):\n",
    "        self.name = name\n",
    "    def eat(self):\n",
    "        print('동물이 먹는다')\n",
    "    \n",
    "class Dog(Animal):\n",
    "    def __init__(self):\n",
    "        super().__init__()\n",
    "    \n",
    "    # 재정의. 단 재정의 없이 Dog 객체를 참조하는 변수로 호출시 상속받은 메소드가 호출됨\n",
    "    def eat(self):       # overriding\n",
    "        print('강아지가 먹는다')"
   ]
  },
  {
   "cell_type": "code",
   "execution_count": null,
   "metadata": {},
   "outputs": [],
   "source": [
    "a = Dog()\n",
    "a.eat()"
   ]
  },
  {
   "cell_type": "markdown",
   "metadata": {},
   "source": [
    "## 상속 문제 1\n",
    "\n",
    "1. 문제 :<br>\n",
    "회사에 직원(Employee)과 매니저(Manager)가 있다. 직원은 월급만 있지만 매니저는 월급외에 보너스가 있다<br>\n",
    "Employee 클래스를 상속받아서 Manager 클래스를 작성한다. <br>\n",
    "Employee 클래스의 getSalary()는 Manager 클래스에서 재정의된다 <br><br>\n",
    "- 조건 : 부모 클래스만 제시\n",
    "- 출력 결과 : 이름: 김철수; 월급: 2000000; 보너스: 1000000"
   ]
  },
  {
   "cell_type": "code",
   "execution_count": null,
   "metadata": {},
   "outputs": [],
   "source": [
    "class Employee:\n",
    "    def __init__(self, name, salary):\n",
    "        self.name = name\n",
    "        self.salary = salary\n",
    "        \n",
    "    def  getSalary(self):\n",
    "        return salary\n",
    "\n",
    "class Manager(Employee):\n",
    "    def __init__(self, name, salary, bonus):\n",
    "        super().__init__(name, salary)\n",
    "        self.bonus=bonus\n",
    "        \n",
    "    def getSalary(self):\n",
    "        salary=super().getSalary()\n",
    "        return salary + self.bonus\n",
    "    \n",
    "    def __str__(self):\n",
    "        return \"이름:\"+ self.name + \" 월급:\" + str(self.salary) + \" 보너스:\" + str(self.bonus)\n",
    "\n",
    "\n",
    "kim = Manager(\"장자\", 2000000, 1000000)\n",
    "print(kim)\n"
   ]
  },
  {
   "cell_type": "markdown",
   "metadata": {},
   "source": [
    "# 다형성\n",
    "- 코드의 재사용성 및 간결성"
   ]
  },
  {
   "cell_type": "code",
   "execution_count": null,
   "metadata": {},
   "outputs": [],
   "source": [
    "class Animal:\n",
    "    def __init__(self, name):    \n",
    "        self.name = name\n",
    "        \n",
    "    def speak(self):             \n",
    "        return '알 수 없음'\n",
    "\n",
    "class Dog(Animal):\n",
    "    def speak(self): # 재정의\n",
    "        return '멍멍!'\n",
    "    \n",
    "class Cat(Animal):\n",
    "    def speak(self):\n",
    "        return '야옹!'\n",
    "    \n",
    "# 다형성을 적용한 list 만들기\n",
    "# list에는 모든 데이터 다 저장가능\n",
    "# 현 예제에선 speak()함수 호출의 간결성을 위한 list타입 활용\n",
    "animalList = [Dog('dog1'), Dog('dog2'), Cat('cat1')]\n",
    " \n",
    "for a in animalList:\n",
    "    print (a.name + ': ' + a.speak())\n"
   ]
  },
  {
   "cell_type": "markdown",
   "metadata": {},
   "source": [
    "# 다형성 문제\n",
    "\n",
    "1. 문제  :<br>\n",
    "카드를 나타내는 Card 클래스를 작성하고 52개의 Card 객체를 가지고 있는 Deck 클래스를 작성한다. 각 클래스의 __str__() 메소드를 구현하여서 덱 안에 들어 있는 카드를 다음과 같이 출력한다. \n",
    "<br><br>\n",
    "\n",
    "2. 출력 : <br>\n",
    "['클럽 에이스', '클럽 2', '클럽 3', '클럽 4', '클럽 5', '클럽 6', '클럽 7', '클럽 8', '클럽 9', '클럽 10', '클럽 잭', '클럽 퀸', '클럽 킹', '다이아몬드 에이스', '다이아몬드 2', '다이아몬드 3', '다이아몬드 4', '다이아몬드 5', '다이아몬드 6', '다이아몬드 7', '다이아몬드 8', '다이아몬드 9', '다이아몬드 10', '다이아몬드 잭', '다이아몬드 퀸', '다이아몬드 킹', '하트 에이스', '하트 2', '하트 3', '하트 4', '하트 5', '하트 6', '하트 7', '하트 8', '하트 9', '하트 10', '하트 잭', '하트 퀸', '하트 킹', '스페이드 에이스', '스페이드 2', '스페이드 3', '스페이드 4', '스페이드 5', '스페이드 6', '스페이드 7', '스페이드 8', '스페이드 9', '스페이드 10', '스페이드 잭', '스페이드 퀸', '스페이드 킹']\n",
    "<br><br>\n",
    "\n",
    "3. 문제 출제 방식<br>\n",
    "Card 클래스 제시"
   ]
  },
  {
   "cell_type": "code",
   "execution_count": 49,
   "metadata": {},
   "outputs": [],
   "source": [
    "class Card:\n",
    "    suitNames = ['클럽', '다이아몬드', '하트', '스페이드']\n",
    "    rankNames = [None, '에이스', '2', '3', '4', '5', '6', '7', '8', '9', '10', '잭', '퀸', '킹']\n",
    "\n",
    "    def __init__(self, suit, rank):\n",
    "        self.suit = suit\n",
    "        self.rank = rank\n",
    "\n",
    "    def __str__(self):\n",
    "        return suit+ ' ' + rank\n"
   ]
  },
  {
   "cell_type": "code",
   "execution_count": 52,
   "metadata": {},
   "outputs": [
    {
     "name": "stdout",
     "output_type": "stream",
     "text": [
      "--------\n",
      "['클럽 에이스', '클럽 2', '클럽 3', '클럽 4', '클럽 5', '클럽 6', '클럽 7', '클럽 8', '클럽 9', '클럽 10', '클럽 잭', '클럽 퀸', '클럽 킹', '다이아몬드 에이스', '다이아몬드 2', '다이아몬드 3', '다이아몬드 4', '다이아몬드 5', '다이아몬드 6', '다이아몬드 7', '다이아몬드 8', '다이아몬드 9', '다이아몬드 10', '다이아몬드 잭', '다이아몬드 퀸', '다이아몬드 킹', '하트 에이스', '하트 2', '하트 3', '하트 4', '하트 5', '하트 6', '하트 7', '하트 8', '하트 9', '하트 10', '하트 잭', '하트 퀸', '하트 킹', '스페이드 에이스', '스페이드 2', '스페이드 3', '스페이드 4', '스페이드 5', '스페이드 6', '스페이드 7', '스페이드 8', '스페이드 9', '스페이드 10', '스페이드 잭', '스페이드 퀸', '스페이드 킹']\n",
      "--------\n",
      "['클럽 에이스', '클럽 2', '클럽 3', '클럽 4', '클럽 5', '클럽 6', '클럽 7', '클럽 8', '클럽 9', '클럽 10', '클럽 잭', '클럽 퀸', '클럽 킹', '다이아몬드 에이스', '다이아몬드 2', '다이아몬드 3', '다이아몬드 4', '다이아몬드 5', '다이아몬드 6', '다이아몬드 7', '다이아몬드 8', '다이아몬드 9', '다이아몬드 10', '다이아몬드 잭', '다이아몬드 퀸', '다이아몬드 킹', '하트 에이스', '하트 2', '하트 3', '하트 4', '하트 5', '하트 6', '하트 7', '하트 8', '하트 9', '하트 10', '하트 잭', '하트 퀸', '하트 킹', '스페이드 에이스', '스페이드 2', '스페이드 3', '스페이드 4', '스페이드 5', '스페이드 6', '스페이드 7', '스페이드 8', '스페이드 9', '스페이드 10', '스페이드 잭', '스페이드 퀸', '스페이드 킹']\n"
     ]
    }
   ],
   "source": [
    "#카지노 용어 : 게임용 팩 의미\n",
    "class Deck(Card):\n",
    "    \n",
    "    '''\n",
    "        suitName 개수 만큼 rankNames 들을 반복해서 Card 객체를 생성\n",
    "        cards 변수한테 적재\n",
    "    '''\n",
    "    def __init__(self):\n",
    "        self.cards=[]\n",
    "        for suit in range(4):\n",
    "            for rank in range(1,14):\n",
    "                card=Card.suitNames[suit]+ ' ' +Card.rankNames[rank]\n",
    "              #  card=Card(suit, rank)\n",
    "              #  print(card)\n",
    "                self.cards.append(card)\n",
    "    \n",
    "    \n",
    "    '''\n",
    "      print() 실행시 자동 호출되는 재정의 함수\n",
    "      \n",
    "    '''\n",
    "    # 재정의하는 함수. : 반환되는 데이터는 문자열 타입\n",
    "    def __str__(self):\n",
    "        '''\n",
    "            list에 cards라는 list 타입의 요소 하나하나는 Card라는 객체\n",
    "            str(card) : \n",
    "                Card 클래스의 재정의된 __str__ 함수 호출\n",
    "                    - 재정의된 \"suitName rankName\" 형태로 리스트에 적재\n",
    "        '''\n",
    "        lst = [str(card) for card in self.cards]\n",
    "        print(\"--------\")\n",
    "        '''\n",
    "            list 타입은 이미 str() 함수에 list 타입의 클래스에 재정의 되어 있음\n",
    "            list 내에 저장된 모든 데이터들을 하나의 문자열로 조합해서 반환되는 로직\n",
    "            따라서 list 데이터 출력시에는 모든 데이터가 [ , , ] 구조로 출력됨\n",
    "            \n",
    "        '''\n",
    "        print (lst)\n",
    "        print(\"--------\")\n",
    "        return str(lst)       \n",
    "    \n",
    "\n",
    "deck = Deck() # 덱 객체를 생성\n",
    "print(deck) # 덱 객체를 출력 __str__()이 호출\n"
   ]
  },
  {
   "cell_type": "code",
   "execution_count": null,
   "metadata": {},
   "outputs": [],
   "source": []
  }
 ],
 "metadata": {
  "kernelspec": {
   "display_name": "Python 3",
   "language": "python",
   "name": "python3"
  },
  "language_info": {
   "codemirror_mode": {
    "name": "ipython",
    "version": 3
   },
   "file_extension": ".py",
   "mimetype": "text/x-python",
   "name": "python",
   "nbconvert_exporter": "python",
   "pygments_lexer": "ipython3",
   "version": "3.7.0"
  }
 },
 "nbformat": 4,
 "nbformat_minor": 2
}

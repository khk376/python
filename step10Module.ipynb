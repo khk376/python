{
 "cells": [
  {
   "cell_type": "markdown",
   "metadata": {},
   "source": [
    "### 모듈이란?\n",
    "\n",
    "> 1. 함수나 변수들을 모아 놓은 library들 의미<br>\n",
    "    외부 library들 사용하는 방법, 외부에 내 코드를 공유하는 방법<br>\n",
    "\n",
    "> 2. 모듈 사용 방법 <br>\n",
    "2-1. 모듈의 파일 확장자 : py <br>\n",
    "2-2. 모듈 사용 문법<br>\n",
    "  &nbsp;&nbsp;&nbsp; a. import file명 <br>\n",
    "  &nbsp;&nbsp;&nbsp; b. from file명 import 함수명<br>\n"
   ]
  },
  {
   "cell_type": "code",
   "execution_count": 39,
   "metadata": {},
   "outputs": [
    {
     "name": "stdout",
     "output_type": "stream",
     "text": [
      "Overwriting fibo.py\n"
     ]
    }
   ],
   "source": [
    "%%writefile fibo.py\n",
    "\n",
    "# 피보나치 수열 모듈 개발\n",
    "def fib(n):\n",
    "    a, b = 0, 1\n",
    "    while b < n:\n",
    "        print(b, end=' ')\n",
    "        a, b= b, a+b\n",
    "        \n",
    "        \n",
    "# java에서 실행시 가장 먼저 실행되는 메소드, 없으면 실행 안 되되는 특수 메소드: main\n",
    "# python 명령어로 직접 호출시에만 자동 실행되는 특수 문법\n",
    "# 외부에서 모듈로 import 시에는 무시되는 영역\n",
    "\n",
    "if __name__ == \"__main__\":\n",
    "    print(\"python을 직접 명령어로 실행시 자동 호출되는 영역\")"
   ]
  },
  {
   "cell_type": "code",
   "execution_count": 28,
   "metadata": {},
   "outputs": [
    {
     "name": "stdout",
     "output_type": "stream",
     "text": [
      "1 1 2 3 "
     ]
    }
   ],
   "source": [
    "# 모듈 import \n",
    "import fibo\n",
    "\n",
    "fibo.fib(5)\n",
    "\n",
    "import numpy as np\n",
    "# numpy는 함수명이 아니고 파일명!!"
   ]
  },
  {
   "cell_type": "code",
   "execution_count": 38,
   "metadata": {},
   "outputs": [
    {
     "name": "stdout",
     "output_type": "stream",
     "text": [
      "1 1 2 3 "
     ]
    }
   ],
   "source": [
    "# 모듈(파일명) 에 별칭 부여\n",
    "import fibo as f\n",
    "f.fib(5)"
   ]
  },
  {
   "cell_type": "code",
   "execution_count": 29,
   "metadata": {},
   "outputs": [
    {
     "name": "stdout",
     "output_type": "stream",
     "text": [
      "python을 직접 명령어로 실행시 자동 호출되는 영역\n"
     ]
    }
   ],
   "source": [
    "# python 명령어로 직접 프로그램 실행하는 방법\n",
    "# 도스창에선 >python file명.py\n",
    "!python fibo.py"
   ]
  },
  {
   "cell_type": "code",
   "execution_count": 30,
   "metadata": {},
   "outputs": [
    {
     "name": "stdout",
     "output_type": "stream",
     "text": [
      "1 1 2 3 "
     ]
    }
   ],
   "source": [
    "# 파일 명으로만 import\n",
    "# 파일명.함수명으로 호출\n",
    "import fibo\n",
    "fibo.fib(5)"
   ]
  },
  {
   "cell_type": "code",
   "execution_count": 31,
   "metadata": {},
   "outputs": [
    {
     "name": "stdout",
     "output_type": "stream",
     "text": [
      "1 1 2 3 5 8 "
     ]
    }
   ],
   "source": [
    "# from 모듈 improt 함수명\n",
    "from fibo import fib\n",
    "fib(10)"
   ]
  },
  {
   "cell_type": "code",
   "execution_count": 32,
   "metadata": {},
   "outputs": [
    {
     "name": "stdout",
     "output_type": "stream",
     "text": [
      "1 1 2 3 5 8 13 "
     ]
    }
   ],
   "source": [
    "# fibo라는 파일. 즉 , 모듈 내부에 존재하는 다수의 함수를 사용할 경우가 아니라면 비추\n",
    "from fibo import *\n",
    "fib(20)"
   ]
  },
  {
   "cell_type": "code",
   "execution_count": 24,
   "metadata": {},
   "outputs": [
    {
     "name": "stdout",
     "output_type": "stream",
     "text": [
      "Overwriting mymath.py\n"
     ]
    }
   ],
   "source": [
    "%%writefile mymath.py\n",
    "# jupyter notebook에서 python 파일 생성하는 명령어\n",
    "\n",
    "mypi = 3.14\n",
    "def add(a,b):\n",
    "    return a+b\n",
    "\n",
    "def area(r):\n",
    "    return r*r*mypi"
   ]
  },
  {
   "cell_type": "code",
   "execution_count": 25,
   "metadata": {},
   "outputs": [
    {
     "name": "stdout",
     "output_type": "stream",
     "text": [
      " C 드라이브의 볼륨에는 이름이 없습니다.\n",
      " 볼륨 일련 번호: 987E-BCFF\n",
      "\n",
      " C:\\0.ITstudy\\6.Python 디렉터리\n",
      "\n",
      "2018-11-19  오전 11:01    <DIR>          .\n",
      "2018-11-19  오전 11:01    <DIR>          ..\n",
      "2018-11-19  오전 10:47    <DIR>          .ipynb_checkpoints\n",
      "2018-11-12  오전 09:59             9,229 11.12_파이썬_답(병길).ipynb\n",
      "2018-11-12  오전 10:04            10,589 11.12_파이썬_문제(병길).ipynb\n",
      "2018-11-13  오전 10:18            11,009 11.13_두환_문제_별똥별은 거꾸로 해도 별똥별!_문제(김희건).ipynb\n",
      "2018-11-13  오전 10:04            68,143 11.13_은지_문제(김희건).ipynb\n",
      "2018-11-15  오전 08:55             5,397 1115_김영선_김희건_문제.ipynb\n",
      "2018-11-19  오전 10:11             7,791 1115_김영선_김희선_답지.ipynb\n",
      "2018-11-19  오전 08:50             7,326 1119_김영선_김희건_문제.ipynb\n",
      "2018-11-19  오전 10:39            15,070 1119_김영선_김희선_답지.ipynb\n",
      "2018-11-15  오전 08:58             6,479 181115_문제(영선, 희건)-답지.ipynb\n",
      "2018-11-16  오후 03:51             4,764 181115_문제(영선, 희건).ipynb\n",
      "2018-11-14  오전 10:12             8,168 20181114_PYTHON_김민석.ipynb\n",
      "2018-11-19  오전 09:58             7,293 20181114_PYTHON_김민석_정답.ipynb\n",
      "2018-11-14  오후 09:30            81,595 3-1.PNG\n",
      "2018-11-14  오후 09:30             4,850 3-2.PNG\n",
      "2018-11-12  오전 09:01             6,574 7번 부등식.png\n",
      "2018-11-07  오후 01:21       662,059,680 Anaconda3-5.3.0-Windows-x86_64.exe\n",
      "2018-11-09  오전 11:09    <DIR>          content\n",
      "2018-11-07  오후 05:21             6,019 ex01_syntax.ipynb\n",
      "2018-11-07  오후 05:26             2,582 ex02_formatting.ipynb\n",
      "2018-11-07  오후 06:04             7,429 ex03_string.ipynb\n",
      "2018-11-07  오후 04:43             2,408 ex03_Strings.ipynb\n",
      "2018-11-19  오전 10:57               381 fibo.py\n",
      "2018-11-09  오전 10:45             1,978 movie.ipynb\n",
      "2018-11-19  오전 11:02               144 mymath.py\n",
      "2018-11-13  오후 05:36            15,636 practice.ipynb\n",
      "2018-11-15  오후 05:09    <DIR>          python\n",
      "2018-11-12  오전 10:48            14,576 solution.ipynb\n",
      "2018-11-08  오전 09:28             5,866 step01Calculation.ipynb\n",
      "2018-11-09  오전 09:12            18,528 step02Type1.ipynb\n",
      "2018-11-09  오전 09:18            13,566 step03ConditionLoop.ipynb\n",
      "2018-11-09  오후 03:05            54,186 step04Type2ListTupleDictSet.ipynb\n",
      "2018-11-13  오전 09:14            19,282 step05Function.ipynb\n",
      "2018-11-12  오후 07:58            16,902 step06Comprehension.ipynb\n",
      "2018-11-12  오후 04:15             8,566 step07formatting.ipynb\n",
      "2018-11-14  오전 09:29            20,898 step08Class.ipynb\n",
      "2018-11-13  오후 04:41            11,789 step09OOP.ipynb\n",
      "2018-11-19  오전 11:01            10,094 step10Module.ipynb\n",
      "2018-11-13  오전 09:55             3,751 step11FileIO.ipynb\n",
      "2018-11-09  오후 05:58             5,118 test.ipynb\n",
      "2018-11-17  오전 04:37             3,554 Untitled.ipynb\n",
      "2018-11-19  오전 10:53    <DIR>          __pycache__\n",
      "2018-11-14  오전 12:01             8,715 문제(답포함)_서동호.ipynb\n",
      "2018-11-14  오전 09:33             5,436 문제_서동호.ipynb\n",
      "2018-11-12  오전 10:29            10,914 문제지.ipynb\n",
      "2018-11-07  오후 01:52    <DIR>          새 폴더\n",
      "              41개 파일         662,582,275 바이트\n",
      "               7개 디렉터리  105,246,953,472 바이트 남음\n"
     ]
    }
   ],
   "source": [
    "!dir"
   ]
  },
  {
   "cell_type": "code",
   "execution_count": 40,
   "metadata": {},
   "outputs": [
    {
     "name": "stdout",
     "output_type": "stream",
     "text": [
      "30\n"
     ]
    }
   ],
   "source": [
    "from mymath import add\n",
    "\n",
    "print(add(10, 20))"
   ]
  },
  {
   "cell_type": "code",
   "execution_count": 33,
   "metadata": {},
   "outputs": [],
   "source": [
    "#절대 가져오기 : sys.path변수에 정해진 순서대로  가져옴\n",
    "#상대 가져오기 : 현재모듈에 속해있는 패키지를 기준으로 상대적인 위치에서 가져올 모듈을 찾는다.\n",
    "import math  #math는 모듈이름   math.pi\n",
    "from math import sin,cos, pi #math모듈에서 특정이름만을 현재 이름공간으로 가져온다.  pi\n",
    "from math import * #비추\n",
    "\n",
    "# 별칭부여(권장하는 이름으로 작성 필수)\n",
    "import numpy as np #모듈이름을 다른 이름으로 사용하고자 하는 경우. 이름이 너무 길거나 이름이 충돌된 경우 \n",
    "from math import factorial as fact #모듈내의 정의한 이름을 다른 이름으로 사용하고자 하는 경우  \n",
    "from math import factorial as fact , sqrt as sq"
   ]
  },
  {
   "cell_type": "code",
   "execution_count": 34,
   "metadata": {},
   "outputs": [
    {
     "data": {
      "text/plain": [
       "'math'"
      ]
     },
     "execution_count": 34,
     "metadata": {},
     "output_type": "execute_result"
    }
   ],
   "source": [
    "import math\n",
    "math.__name__"
   ]
  },
  {
   "cell_type": "code",
   "execution_count": 37,
   "metadata": {},
   "outputs": [
    {
     "data": {
      "text/plain": [
       "'factorial'"
      ]
     },
     "execution_count": 37,
     "metadata": {},
     "output_type": "execute_result"
    }
   ],
   "source": [
    "from math import factorial as fact\n",
    "fact.__name__"
   ]
  }
 ],
 "metadata": {
  "kernelspec": {
   "display_name": "Python 3",
   "language": "python",
   "name": "python3"
  },
  "language_info": {
   "codemirror_mode": {
    "name": "ipython",
    "version": 3
   },
   "file_extension": ".py",
   "mimetype": "text/x-python",
   "name": "python",
   "nbconvert_exporter": "python",
   "pygments_lexer": "ipython3",
   "version": "3.7.0"
  }
 },
 "nbformat": 4,
 "nbformat_minor": 2
}

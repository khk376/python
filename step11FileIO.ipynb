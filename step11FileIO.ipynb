{
 "cells": [
  {
   "cell_type": "markdown",
   "metadata": {},
   "source": [
    "### 1. 논리적인 파일 구조\n",
    "* 데이터 입출력 기본: 오픈 -> 사용 -> 자원반환★\n",
    "\n",
    ">1. 파일 안에는 바이트들이 순차적으로 저장되어 있고 맨 끝에는 EOF(end-of-file) 마커가 있음\n",
    "\n",
    ">2. 모든 파일은 입출력 동작이 발생하는 위치를 나타내는 위치 표시자(position indicator)를 가지고 있음\n",
    "\n",
    ">3. 텍스트 파일 읽고 쓰기<br>\n",
    "   - open(\"file 이름\", 파일열기모드, 인코딩)<br>\n",
    "   - 파일 열기 모드<br>\n",
    "       1. r : 읽기 모드(파일의 처음부터 read)<br>\n",
    "       2. w : 쓰기 모드(파일의 처음부터 쓰기, 파일이 없으면 생성, 존재하면 기존 내용은 지우고 새로 작성)<br>\n",
    "       3. a : 추가 모드(파일의 끝에 씀, 파일이 없으면 생성)<br>\n",
    "       4. r+ : 읽기 쓰기 모드(파일에 읽고 쓸수 있는 모드)\n",
    "       \n",
    ">4. test를 위한 데이터(파일들) 위치: dataset이라는 폴더에 저장되어있음"
   ]
  },
  {
   "cell_type": "code",
   "execution_count": 18,
   "metadata": {},
   "outputs": [],
   "source": [
    "# output.txt 파일 생성 및 데이터 출력\n",
    "# 한글 데이터 고려 - upf-8\n",
    "\n",
    "# 출력 모드의 파일 생성\n",
    "f = open(\"output.txt\", \"w\", encoding=\"utf-8\")\n",
    "\n",
    "# 데이터 출력\n",
    "f.write(\"data 출력 확인\")\n",
    "#? 다음 라인에 한글 이름 출력\n",
    "f.write(\"\\n김희건;\")\n",
    "\n",
    "# 자원 반환\n",
    "f.close()"
   ]
  },
  {
   "cell_type": "code",
   "execution_count": 22,
   "metadata": {},
   "outputs": [],
   "source": [
    "# 필수인 자원 반환을 자동으로 적용되게 코드 수정\n",
    "with open(\"output.txt\", \"w\", encoding=\"utf-8\") as f:\n",
    "    f.write(\"data 출력 확인\")\n",
    "    f.write(\"\\n또출력또출력\")\n"
   ]
  },
  {
   "cell_type": "code",
   "execution_count": 28,
   "metadata": {},
   "outputs": [],
   "source": [
    "# 줄단위로 파일에 쓰기\n",
    "\"\"\"\n",
    "list의 데이터를 index를 자동 반영해서 데이터 하나씩만 착출 및 출력\n",
    "반복문\n",
    "    f.writelines(list)\n",
    "고려사항\n",
    "    1. index별 데이터 출력시 new line 반영시 데이터의 끝에 \\n 특수기호 적용\n",
    "    2. join 함수로 \\n을 반영하기\n",
    "        2-1. 하나의 문자열 join\n",
    "        2-2. list join\n",
    "\"\"\"\n",
    "lines = [\"data\", \"\\ndata2\",\"\\ndata3\" ]\n",
    "with open(\"output3.txt\", \"w\") as f:\n",
    "    f.writelines(lines)"
   ]
  },
  {
   "cell_type": "code",
   "execution_count": 35,
   "metadata": {},
   "outputs": [],
   "source": [
    "lines = [\"data\", \"data2\",\"data3\" ]\n",
    "with open(\"output4.txt\", \"w\") as f:\n",
    "    f.write(\"\\n\".join(lines))"
   ]
  },
  {
   "cell_type": "code",
   "execution_count": 48,
   "metadata": {},
   "outputs": [
    {
     "name": "stdout",
     "output_type": "stream",
     "text": [
      "data\n",
      "data2\n",
      "data3\n"
     ]
    }
   ],
   "source": [
    "with open(\"output4.txt\", \"r\") as f:\n",
    "    print(f.read())"
   ]
  },
  {
   "cell_type": "code",
   "execution_count": 50,
   "metadata": {},
   "outputs": [
    {
     "name": "stdout",
     "output_type": "stream",
     "text": [
      "data\n",
      "\n"
     ]
    }
   ],
   "source": [
    "with open(\"output4.txt\", \"r\") as f:\n",
    "    print(f.readline()) # 한 라인만 read"
   ]
  },
  {
   "cell_type": "code",
   "execution_count": 51,
   "metadata": {},
   "outputs": [
    {
     "name": "stdout",
     "output_type": "stream",
     "text": [
      "['data\\n', 'data2\\n', 'data3']\n"
     ]
    }
   ],
   "source": [
    "with open(\"output4.txt\", \"r\") as f:\n",
    "    print(f.readlines()) # 파일 전체를 줄단위로 구분해서 list에 저장"
   ]
  },
  {
   "cell_type": "code",
   "execution_count": 57,
   "metadata": {},
   "outputs": [
    {
     "name": "stdout",
     "output_type": "stream",
     "text": [
      "data\n",
      "\n",
      "data2\n",
      "\n",
      "data3\n"
     ]
    }
   ],
   "source": [
    "#? output3.txt의 데이터를 반드시 readlines()로 read해서 한 라인씩 출력\n",
    "with open(\"output4.txt\", \"r\") as f:\n",
    "    datas = f.readlines()\n",
    "    for v in datas:\n",
    "        print(v)"
   ]
  },
  {
   "cell_type": "code",
   "execution_count": 53,
   "metadata": {},
   "outputs": [
    {
     "name": "stdout",
     "output_type": "stream",
     "text": [
      "내 속엔 내가 너무도 많아 당신의 쉴 곳 없네\n",
      "\n"
     ]
    }
   ],
   "source": [
    "with open(\"dataSet/poem.txt\", \"r\", encoding=\"utf-8\") as a:\n",
    "    print(a.readline())"
   ]
  },
  {
   "cell_type": "code",
   "execution_count": null,
   "metadata": {},
   "outputs": [],
   "source": []
  },
  {
   "cell_type": "code",
   "execution_count": 46,
   "metadata": {},
   "outputs": [
    {
     "name": "stdout",
     "output_type": "stream",
     "text": [
      "내 속엔 내가 너무도 많아 당신의 쉴 곳 없네\n",
      "내 속엔 헛된바램들로 당신의 편할 곳 없네\n",
      "내 속엔 내가 어쩔 수 없는 어둠 당신의 쉴 자리를 뺏고\n",
      "내 속엔 내가 이길 수 없는 슬픔 무성한 가시나무숲같네\n",
      "\n",
      "바람만 불면 그 메마른가지 서로 부대끼며 울어대고\n",
      "쉴곳을 찾아 지쳐 날아온 어린새들도 가시에 찔려 날아가고\n",
      "바람만 불면 외롭고 또 괴로워 슬픈 노래를 부르던 날이 많았는데\n",
      "\n",
      "내 속엔 내가 너무도 많아서 당신의 쉴 곳 없네\n",
      "\n",
      "\n",
      "바람만 불면 그 메마른가지 서로 부대끼며 울어대고\n",
      "쉴곳을 찾아 지쳐 날아온 어린새들도 가시에 찔려 날아가고\n",
      "바람만 불면 외롭고 또 괴로워 슬픈 노래를 부르던 날이 많았는데\n",
      "\n",
      "내 속엔 내가 너무도 많아서 당신의 쉴 곳 없네\n"
     ]
    }
   ],
   "source": [
    "# dataSet이라는 폴더 하위에 poem.txt 내용 read해서 콘솔에 출력\n",
    "\n",
    "with open(\"dataSet/poem.txt\", \"r\", encoding=\"utf-8\") as a:\n",
    "    print(a.read())"
   ]
  },
  {
   "cell_type": "code",
   "execution_count": 23,
   "metadata": {},
   "outputs": [
    {
     "ename": "NameError",
     "evalue": "name 'dlist' is not defined",
     "output_type": "error",
     "traceback": [
      "\u001b[1;31m---------------------------------------------------------------------------\u001b[0m",
      "\u001b[1;31mNameError\u001b[0m                                 Traceback (most recent call last)",
      "\u001b[1;32m<ipython-input-23-1a71ea51a468>\u001b[0m in \u001b[0;36m<module>\u001b[1;34m()\u001b[0m\n\u001b[0;32m      6\u001b[0m \u001b[1;32mfor\u001b[0m \u001b[0mi\u001b[0m \u001b[1;32min\u001b[0m \u001b[0mrange\u001b[0m\u001b[1;33m(\u001b[0m\u001b[0mcount\u001b[0m\u001b[1;33m)\u001b[0m\u001b[1;33m:\u001b[0m\u001b[1;33m\u001b[0m\u001b[0m\n\u001b[0;32m      7\u001b[0m     \u001b[1;32mfor\u001b[0m \u001b[0mno\u001b[0m \u001b[1;32min\u001b[0m \u001b[0mrange\u001b[0m\u001b[1;33m(\u001b[0m\u001b[1;36m5\u001b[0m\u001b[1;33m)\u001b[0m\u001b[1;33m:\u001b[0m\u001b[1;33m\u001b[0m\u001b[0m\n\u001b[1;32m----> 8\u001b[1;33m         \u001b[0mdlist\u001b[0m\u001b[1;33m.\u001b[0m\u001b[0mappend\u001b[0m\u001b[1;33m(\u001b[0m\u001b[0mdata\u001b[0m\u001b[1;33m.\u001b[0m\u001b[0mpop\u001b[0m\u001b[1;33m(\u001b[0m\u001b[1;36m0\u001b[0m\u001b[1;33m)\u001b[0m\u001b[1;33m)\u001b[0m\u001b[1;33m\u001b[0m\u001b[0m\n\u001b[0m\u001b[0;32m      9\u001b[0m     \u001b[0mnewList\u001b[0m\u001b[1;33m.\u001b[0m\u001b[0mappend\u001b[0m\u001b[1;33m(\u001b[0m\u001b[0mdlist\u001b[0m\u001b[1;33m.\u001b[0m\u001b[0mcopy\u001b[0m\u001b[1;33m(\u001b[0m\u001b[1;33m)\u001b[0m\u001b[1;33m)\u001b[0m\u001b[1;33m\u001b[0m\u001b[0m\n\u001b[0;32m     10\u001b[0m     \u001b[0mdlist\u001b[0m\u001b[1;33m.\u001b[0m\u001b[0mclear\u001b[0m\u001b[1;33m(\u001b[0m\u001b[1;33m)\u001b[0m\u001b[1;33m\u001b[0m\u001b[0m\n",
      "\u001b[1;31mNameError\u001b[0m: name 'dlist' is not defined"
     ]
    }
   ],
   "source": [
    "data = [1,2,3,4,5,6,7,8,9,10]\n",
    "count = len(data) //5\n",
    "newList=[]\n",
    "dist=[]\n",
    "\n",
    "for i in range(count):\n",
    "    for no in range(5):\n",
    "        dlist.append(data.pop(0))\n",
    "    newList.append(dlist.copy())\n",
    "    dlist.clear()\n",
    "newList\n"
   ]
  },
  {
   "cell_type": "markdown",
   "metadata": {},
   "source": [
    "#### Lab 1 - dataSet.txt 파일을 만들고 #으로 시작하는 문장만 출력해 보기\n",
    "> 힌트 : startwith() "
   ]
  },
  {
   "cell_type": "code",
   "execution_count": 60,
   "metadata": {},
   "outputs": [
    {
     "name": "stdout",
     "output_type": "stream",
     "text": [
      "Overwriting dataSet.txt\n"
     ]
    }
   ],
   "source": [
    "%%file dataSet.txt\n",
    "\n",
    "NumPy is the fundamental package for scientific computing with Python. It contains among other things:\n",
    "\n",
    "# comment1..\n",
    "\n",
    "  * a powerful N-dimensional array object\n",
    "  * sophisticated (broadcasting) functions\n",
    "  * tools for integrating C/C++ and Fortran code\n",
    "  * useful linear algebra, Fourier transform, and random number capabilities\n",
    "\n",
    "# comment2..\n",
    "\n",
    "Besides its obvious scientific uses, NumPy can also be used as an efficient multi-dimensional container of generic data. Arbitrary data-types can be defined. This allows NumPy to seamlessly and speedily integrate with a wide variety of databases.\n",
    "\n",
    "Numpy is licensed under the BSD license, enabling reuse with few restrictions.\n"
   ]
  },
  {
   "cell_type": "code",
   "execution_count": 73,
   "metadata": {},
   "outputs": [
    {
     "name": "stdout",
     "output_type": "stream",
     "text": [
      "# comment1..\n",
      "\n",
      "# comment2..\n",
      "\n"
     ]
    }
   ],
   "source": [
    "for line in open(\"dataSet.txt\"):\n",
    "    if line.startswith(\"#\"):\n",
    "        print(line)"
   ]
  },
  {
   "cell_type": "markdown",
   "metadata": {},
   "source": [
    "### Lab 2 - 줄 앞에 번호붙이기 \n",
    "\n",
    "> 텍스트 파일을 열어서 각 줄의 앞에 번호를 매겨서 다시 파일에 쓰는 프로그램을 작성해보자<br>\n",
    "> 참조 파일명 : dataSet/lineInsert.txt (dataSet 폴더에 있음)\n"
   ]
  },
  {
   "cell_type": "code",
   "execution_count": 104,
   "metadata": {},
   "outputs": [
    {
     "name": "stdout",
     "output_type": "stream",
     "text": [
      "All's well that ends well.\n",
      "Bad news travels fast.\n",
      "Well begun is half done.\n",
      "Birds of a feather flock together.\n"
     ]
    }
   ],
   "source": [
    "with open(\"dataSet/lineInsert.txt\", \"r\") as a:\n",
    "    print(a.read())"
   ]
  },
  {
   "cell_type": "code",
   "execution_count": 106,
   "metadata": {},
   "outputs": [],
   "source": [
    "infile = open(\"dataSet/lineInsert.txt\", \"r\")\n",
    "outfile = open(\"lineInsertot.txt\", \"w\")\n",
    "\n",
    "i = 1\n",
    "for a in infile:\n",
    "    outfile.write(str(i) + \". \"+ a)\n",
    "    i = i+1\n",
    "    \n",
    "infile.close()\n",
    "outfile.close()"
   ]
  },
  {
   "cell_type": "markdown",
   "metadata": {},
   "source": [
    "### Lab 3  - 매출 파일 처리\n",
    "> 텍스트 파일에 상점의 매출이 저장되어 있다. read해서 평균 매출과 총 매출을 계산한 후에 다른 파일에 출력하는 프로그램 작성해 보기<br>\n",
    "> 참조 파일명 : dataSet/sales.txt "
   ]
  },
  {
   "cell_type": "code",
   "execution_count": 111,
   "metadata": {},
   "outputs": [],
   "source": [
    "infilename=\"dataSet/sales.txt\"\n",
    "outfilename=\"result.txt\"\n",
    "\n",
    "infile=open(infilename, \"r\")\n",
    "outfile=open(outfilename, \"w\")\n",
    "\n",
    "sum=0\n",
    "count=0\n",
    "\n",
    "for line in infile:\n",
    "    dailySale=int(line)\n",
    "    sum=sum+dailySale\n",
    "    count=count+1\n",
    "    \n",
    "outfile.write(\"총매출 = \" + str(sum))\n",
    "outfile.write(\"\\n평균 매출 = \" + str(sum/count))\n",
    "\n",
    "infile.close()\n",
    "outfile.close()"
   ]
  },
  {
   "cell_type": "markdown",
   "metadata": {},
   "source": [
    "### Lab4 - 파일의 데이터를 read해서 각 문자 횟수 세기\n",
    "\n",
    ">참조 파일명 : dataSet/dataSet.txt\n"
   ]
  },
  {
   "cell_type": "code",
   "execution_count": null,
   "metadata": {},
   "outputs": [],
   "source": [
    "'''\n",
    "1. 한 음절씩 counting 하기\n",
    "2. 권장 사항\n",
    "    dict - key:value 구조\n",
    "    key는 철자\n",
    "    value는 counting\n",
    "3. 여백은 제거\n",
    "    - strip() 함수로 잉여 여백 제거하기\n",
    "\n",
    "'''"
   ]
  },
  {
   "cell_type": "code",
   "execution_count": 131,
   "metadata": {},
   "outputs": [
    {
     "name": "stdout",
     "output_type": "stream",
     "text": [
      "\n",
      "NumPy is the fundamental package for scientific computing with Python. It contains among other things:\n",
      "\n",
      "# comment1..\n",
      "\n",
      "  * a powerful N-dimensional array object\n",
      "  * sophisticated (broadcasting) functions\n",
      "  * tools for integrating C/C++ and Fortran code\n",
      "  * useful linear algebra, Fourier transform, and random number capabilities\n",
      "\n",
      "# comment2..\n",
      "\n",
      "Besides its obvious scientific uses, NumPy can also be used as an efficient multi-dimensional container of generic data. Arbitrary data-types can be defined. This allows NumPy to seamlessly and speedily integrate with a wide variety of databases.\n",
      "\n",
      "Numpy is licensed under the BSD license, enabling reuse with few restrictions.\n",
      "\n"
     ]
    }
   ],
   "source": [
    "with open(\"dataSet/dataSet.txt\", \"r\") as a:\n",
    "    print(a.read().strip(' '))"
   ]
  },
  {
   "cell_type": "code",
   "execution_count": 130,
   "metadata": {},
   "outputs": [
    {
     "name": "stdout",
     "output_type": "stream",
     "text": [
      "{'N': 5, 'u': 18, 'm': 18, 'P': 4, 'y': 11, ' ': 87, 'i': 49, 's': 39, 't': 42, 'h': 10, 'e': 55, 'f': 15, 'n': 44, 'd': 21, 'a': 46, 'l': 19, 'p': 8, 'c': 23, 'k': 1, 'g': 11, 'o': 32, 'r': 29, 'w': 7, '.': 9, 'I': 1, ':': 1, '#': 2, '1': 1, '*': 4, '-': 3, 'b': 11, 'j': 1, '(': 1, ')': 1, 'C': 2, '/': 1, '+': 2, 'F': 2, ',': 4, '2': 1, 'B': 2, 'v': 2, 'A': 1, 'T': 1, 'S': 1, 'D': 1}\n"
     ]
    }
   ],
   "source": [
    "infilename=\"dataSet.txt\"\n",
    "infile=open(infilename, \"r\") # 파일을 연다.\n",
    "data={}\n",
    "# 파일의 각 줄에 추출\n",
    "for a in infile:\n",
    "    for b in a.strip(): # 한 라인에서 한 음절(철자)씩 추출\n",
    "        if b in data: # 튜플에 존재 여부 확인\n",
    "            data[b] +=1 # 존재할 경우 +1\n",
    "        else:\n",
    "            data[b] =1 # 미존재할경우 새로 저장\n",
    "print(data)\n",
    "infile.close()"
   ]
  }
 ],
 "metadata": {
  "kernelspec": {
   "display_name": "Python 3",
   "language": "python",
   "name": "python3"
  },
  "language_info": {
   "codemirror_mode": {
    "name": "ipython",
    "version": 3
   },
   "file_extension": ".py",
   "mimetype": "text/x-python",
   "name": "python",
   "nbconvert_exporter": "python",
   "pygments_lexer": "ipython3",
   "version": "3.7.0"
  }
 },
 "nbformat": 4,
 "nbformat_minor": 2
}

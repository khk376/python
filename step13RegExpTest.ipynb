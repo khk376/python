{
 "cells": [
  {
   "cell_type": "markdown",
   "metadata": {},
   "source": [
    "# [문자 클래스]\n",
    "\n",
    "1. [abc] - a, b, c중 한 개의 문자와 매치\n",
    "  - a : 매치여부 OK\n",
    "  - apple : ok\n",
    "  - double : no\n",
    "\n",
    "2. \\d   : 숫자와 매치, [0-9]와 동일\n",
    "\n",
    "3. \\D : 숫자가 아닌 것과 매치 [^0-9]와 동일\n",
    "\n",
    "4. \\s : whitespace 문자와 매치\n",
    "\n",
    "5. \\S : whitespace 문자가 아닌것과 매치, \n",
    "\n",
    "6. \\w : 문자 + 숫자와 매치, [a-zA-Z0-9]와 동일\n",
    "\n",
    "7. \\W : 문자+숫자가 아닌 문자와 매치. [^a-zA-Z0-9]와 동일\n",
    "  \n",
    "8. a.b : a와 b 사이에 줄바꿈 문자를 제외한 모든 문자 허용\n",
    "\n",
    "9. a[.]b : a와 b 사이에 dot 문자만 허용\n",
    "\n",
    "10. ca*t  : a 문자가 0번 이상 반복 허용\n",
    "\n",
    "11. ca+t :  a 문자가 1번 이상 반복 허용\n",
    "\n",
    "12. ca?t : a 문자가 없거나, 1번만 허용\n",
    "\n",
    "13. ca{3}t : a 문자가 3번 반복되면 매치\n",
    "\n",
    "14. ca{2, 3}t : a 문자가 2~3번 반복되면 매치"
   ]
  },
  {
   "cell_type": "code",
   "execution_count": 2,
   "metadata": {},
   "outputs": [],
   "source": [
    "import re"
   ]
  },
  {
   "cell_type": "markdown",
   "metadata": {},
   "source": [
    "# 융희 왈\n",
    " [] 안에 ^ab 로 표현되어 있을 경우 match() 함수 사용해서 정규표현식 검증할 경우 데이터는 'abc'인 경우 c는 왜 출력이 안되는가?\n",
    " \n",
    " 응용:c가 나오게 해결"
   ]
  },
  {
   "cell_type": "code",
   "execution_count": 13,
   "metadata": {},
   "outputs": [
    {
     "name": "stdout",
     "output_type": "stream",
     "text": [
      "<re.Match object; span=(0, 1), match='c'>\n",
      "<re.Match object; span=(2, 3), match='c'>\n"
     ]
    }
   ],
   "source": [
    "pattern = re.compile(\"[^ab]\")\n",
    "data=pattern.match(\"cab\")\n",
    "print(data)\n",
    "data2=pattern.search(\"abc\")\n",
    "print(data2)"
   ]
  },
  {
   "cell_type": "markdown",
   "metadata": {},
   "source": [
    "1. 문제 : encore 단어만으로 이루어지도록 정규표현 만들어보기"
   ]
  },
  {
   "cell_type": "code",
   "execution_count": 18,
   "metadata": {},
   "outputs": [
    {
     "data": {
      "text/plain": [
       "<re.Match object; span=(0, 6), match='encore'>"
      ]
     },
     "execution_count": 18,
     "metadata": {},
     "output_type": "execute_result"
    }
   ],
   "source": [
    "re.match(\"\\w+\",\"encore\")"
   ]
  },
  {
   "cell_type": "code",
   "execution_count": 30,
   "metadata": {},
   "outputs": [
    {
     "data": {
      "text/plain": [
       "<re.Match object; span=(0, 6), match='encore'>"
      ]
     },
     "execution_count": 30,
     "metadata": {},
     "output_type": "execute_result"
    }
   ],
   "source": [
    "re.search(\"\\w{6}\",\"encoresponse\")"
   ]
  },
  {
   "cell_type": "code",
   "execution_count": 32,
   "metadata": {},
   "outputs": [
    {
     "data": {
      "text/plain": [
       "<re.Match object; span=(7, 13), match='encore'>"
      ]
     },
     "execution_count": 32,
     "metadata": {},
     "output_type": "execute_result"
    }
   ],
   "source": [
    "re.search(\"e\\w{5}\",\"ijmmpmnencore\")"
   ]
  },
  {
   "cell_type": "code",
   "execution_count": 35,
   "metadata": {},
   "outputs": [
    {
     "data": {
      "text/plain": [
       "<re.Match object; span=(0, 6), match='encore'>"
      ]
     },
     "execution_count": 35,
     "metadata": {},
     "output_type": "execute_result"
    }
   ],
   "source": [
    "re.search(\"e.c...\",\"encore\")"
   ]
  },
  {
   "cell_type": "code",
   "execution_count": 152,
   "metadata": {},
   "outputs": [
    {
     "data": {
      "text/plain": [
       "'encore'"
      ]
     },
     "execution_count": 152,
     "metadata": {},
     "output_type": "execute_result"
    }
   ],
   "source": [
    "re.sub(\"h\\w{3}\",\"en\",\"hardcore\")"
   ]
  },
  {
   "cell_type": "markdown",
   "metadata": {},
   "source": [
    "2. 문제 - 설명에 부합되는 정규 표현식을 만들어라<br><Br>\n",
    "data로 시작하며 data 다음에는 whitespace가 와야 하며, 그 뒤에는 문자와 숫자 등이 조합될 수 있는 단어가 와야 한다"
   ]
  },
  {
   "cell_type": "code",
   "execution_count": 55,
   "metadata": {},
   "outputs": [
    {
     "data": {
      "text/plain": [
       "<re.Match object; span=(0, 11), match='data 13afaa'>"
      ]
     },
     "execution_count": 55,
     "metadata": {},
     "output_type": "execute_result"
    }
   ],
   "source": [
    "pattern=re.compile(\"^data\\s\\w+\")\n",
    "pattern.search(\"data 13afaa\")"
   ]
  },
  {
   "cell_type": "markdown",
   "metadata": {},
   "source": [
    "3. 문제 -000-0000-0000 과 같은 전화번호 형태의 정규표현식 만들기"
   ]
  },
  {
   "cell_type": "code",
   "execution_count": null,
   "metadata": {},
   "outputs": [],
   "source": []
  },
  {
   "cell_type": "markdown",
   "metadata": {},
   "source": [
    "답안 - \\w{3}-\\w{4}-\\w{4}"
   ]
  },
  {
   "cell_type": "code",
   "execution_count": 67,
   "metadata": {},
   "outputs": [
    {
     "data": {
      "text/plain": [
       "<re.Match object; span=(0, 11), match='125-123-455'>"
      ]
     },
     "execution_count": 67,
     "metadata": {},
     "output_type": "execute_result"
    }
   ],
   "source": [
    "re.search(\"\\d{3}-\\w{3,4}-\\w{3,4}\", \"125-123-455-6123-000\")"
   ]
  },
  {
   "cell_type": "markdown",
   "metadata": {},
   "source": [
    "3-1. 문제 - 이름 000-0000-0000 과 같은 전화번호 형태의 정규표현식 만들기"
   ]
  },
  {
   "cell_type": "code",
   "execution_count": 88,
   "metadata": {},
   "outputs": [
    {
     "data": {
      "text/plain": [
       "<re.Match object; span=(0, 15), match='김희건 125-123-455'>"
      ]
     },
     "execution_count": 88,
     "metadata": {},
     "output_type": "execute_result"
    }
   ],
   "source": [
    "re.search(\"\\w+\\s\\d{3}-\\w{3,4}-\\w{3,4}\", \"김희건 125-123-455-6123-000\")"
   ]
  },
  {
   "cell_type": "markdown",
   "metadata": {},
   "source": [
    "4. 문제: 제시된 실행 결과를 보고 pattern을 완성해 보기\n",
    "    * 결과: 검색된 데이터:two\n",
    "    * 참고: group(): 매치된 문자열을 리턴"
   ]
  },
  {
   "cell_type": "code",
   "execution_count": 138,
   "metadata": {},
   "outputs": [
    {
     "name": "stdout",
     "output_type": "stream",
     "text": [
      "검색된 데이터 two three\n"
     ]
    }
   ],
   "source": [
    "#p= re.compile(\"t\\w{2}\")\n",
    "p= re.compile(\"t\\w+\\st\\w+\")\n",
    "# 데이터가 존재하면 데이터 반환\n",
    "# 데이터가 미 존재하면 None값 반환\n",
    "\n",
    "m= p.search('one two three') \n",
    "\n",
    "if m!=None:\n",
    "    print('검색된 데이터', m.group(0))\n",
    "else:\n",
    "    print('검색 불가')"
   ]
  },
  {
   "cell_type": "markdown",
   "metadata": {},
   "source": [
    "5. 문자열에서 \"python one\"만을 착출할 수 있는 pattern 만들기"
   ]
  },
  {
   "cell_type": "code",
   "execution_count": 155,
   "metadata": {},
   "outputs": [
    {
     "name": "stdout",
     "output_type": "stream",
     "text": [
      "검색된 데이터 python one\n"
     ]
    }
   ],
   "source": [
    "#p= re.compile(\"\\w{6}\\s\\w+\")\n",
    "p= re.compile(\"\\w+\\s\\w+\")\n",
    "m= p.search(\"\"\"python one\n",
    "life is too short \n",
    "python two \n",
    "you need python \n",
    "python three\"\"\"\n",
    "           ) \n",
    "if m!=None:\n",
    "    print('검색된 데이터', m.group(0))\n",
    "else:\n",
    "    print('검색 불가')"
   ]
  },
  {
   "cell_type": "code",
   "execution_count": 171,
   "metadata": {},
   "outputs": [
    {
     "name": "stdout",
     "output_type": "stream",
     "text": [
      "['python one', 'python two', 'python three']\n"
     ]
    }
   ],
   "source": [
    "p= re.compile(\"^python\\s\\w+\", re.MULTILINE)\n",
    "data=\"\"\"python one\n",
    "life is too short \n",
    "python two \n",
    "you need python \n",
    "python three\"\"\"\n",
    "print(p.findall(data))"
   ]
  },
  {
   "cell_type": "code",
   "execution_count": 169,
   "metadata": {},
   "outputs": [
    {
     "name": "stdout",
     "output_type": "stream",
     "text": [
      "['python one']\n"
     ]
    }
   ],
   "source": [
    "p= re.compile(\"^python\\s\\w+\")\n",
    "data=\"\"\"python one\n",
    "life is too short \n",
    "python two \n",
    "you need python \n",
    "python three\"\"\"\n",
    "print(p.findall(data))"
   ]
  },
  {
   "cell_type": "code",
   "execution_count": null,
   "metadata": {},
   "outputs": [],
   "source": []
  },
  {
   "cell_type": "markdown",
   "metadata": {},
   "source": [
    "6. 문제: 입력되는 데이터값을 주민등록 구조에 맞게 검증 및 뒷자리는 * 문자로 변경해보기 * 검증되는 데이터 구조 : 00000-0000000여야 함\n",
    "\n",
    "*힌트\n",
    "> 1. \\d{숫자}:숫자 및 숫자 자리수 표현\n",
    "> 2. sub(pattern, \"변경하게될 데이터\", 원본데이터}"
   ]
  },
  {
   "cell_type": "code",
   "execution_count": 6,
   "metadata": {},
   "outputs": [
    {
     "name": "stdout",
     "output_type": "stream",
     "text": [
      "930408-1234567\n",
      "930408-*******\n"
     ]
    }
   ],
   "source": [
    "# 문제\n",
    "data1= input()\n",
    "pattern = re.compile(\"\\d{6}-\\d{7}\")\n",
    "if pattern.match(data1) == None:\n",
    "    print(\"무효\")\n",
    "else:\n",
    "    data1=re.sub(\"-\\w+\", \"-*******\", data1)\n",
    "    print(data1)"
   ]
  },
  {
   "cell_type": "code",
   "execution_count": 13,
   "metadata": {},
   "outputs": [
    {
     "name": "stdout",
     "output_type": "stream",
     "text": [
      "<re.Match object; span=(0, 8), match='test.zip'>\n"
     ]
    }
   ],
   "source": [
    "# 신통방통 문제\n",
    "# \"파일명.확장자\" 형태의 패턴 구성\n",
    "pattern=re.compile(\"\\w+.\\w+\")\n",
    "data=pattern.match(\"test.zip\")\n",
    "print(data)"
   ]
  },
  {
   "cell_type": "code",
   "execution_count": 14,
   "metadata": {},
   "outputs": [
    {
     "name": "stdout",
     "output_type": "stream",
     "text": [
      "<re.Match object; span=(0, 8), match='test.zip'>\n"
     ]
    }
   ],
   "source": [
    "pattern=re.compile(\"\\w+[.]\\w+\")\n",
    "data=pattern.match(\"test.zip\")\n",
    "print(data)"
   ]
  },
  {
   "cell_type": "code",
   "execution_count": 21,
   "metadata": {},
   "outputs": [
    {
     "name": "stdout",
     "output_type": "stream",
     "text": [
      "None\n"
     ]
    }
   ],
   "source": [
    "# \"파일명.확장자\" 형태의 패턴 구성\n",
    "# 단 bat는 제외(힌트:b로 시작하는것 제외하기)\n",
    "pattern=re.compile(\"\\w+\\.[^b].+\")\n",
    "data=pattern.match(\"test.bat\")\n",
    "print(data)"
   ]
  },
  {
   "cell_type": "code",
   "execution_count": 22,
   "metadata": {},
   "outputs": [
    {
     "name": "stdout",
     "output_type": "stream",
     "text": [
      "None\n"
     ]
    }
   ],
   "source": [
    "# \"파일명.확장자\" 형태의 패턴 구성\n",
    "# 단 bat는 제외(힌트:b로 시작하는것 제외하기)\n",
    "pattern=re.compile(\"\\w+[.][^b]\\w+\")\n",
    "data=pattern.match(\"test.bip\")\n",
    "print(data)"
   ]
  },
  {
   "cell_type": "markdown",
   "metadata": {},
   "source": [
    "### 데이터를 효율적으로 구분하는 또 다른 기술-암호는 아님\n"
   ]
  },
  {
   "cell_type": "code",
   "execution_count": 53,
   "metadata": {},
   "outputs": [
    {
     "name": "stdout",
     "output_type": "stream",
     "text": [
      "http\n"
     ]
    }
   ],
   "source": [
    "# http://www.google.com 에서 http만 뽑는 패턴\n",
    "pattern = re.compile(\".+(?=:)\")\n",
    "data=pattern.search(\"http://www.google.com\")\n",
    "print(data.group())"
   ]
  },
  {
   "cell_type": "code",
   "execution_count": 73,
   "metadata": {},
   "outputs": [
    {
     "name": "stdout",
     "output_type": "stream",
     "text": [
      "naver.com.goo.aaa.ccc.fff.ddd.aaa\n"
     ]
    }
   ],
   "source": [
    "pattern = re.compile(\".*[.]([^b].?.?|.[^a]?.?|..?[^t]?)$\")\n",
    "            # 여러문자 . b시작제외 문자있거나없거나 a시작제외하거나 안하거나 문자잇거나없거나 . t로시작 x\n",
    "data=pattern.search(\"naver.com.goo.aaa.ccc.fff.ddd.aaa\")\n",
    "print(data.group())"
   ]
  },
  {
   "cell_type": "code",
   "execution_count": null,
   "metadata": {},
   "outputs": [],
   "source": []
  },
  {
   "cell_type": "code",
   "execution_count": null,
   "metadata": {},
   "outputs": [],
   "source": []
  },
  {
   "cell_type": "code",
   "execution_count": null,
   "metadata": {},
   "outputs": [],
   "source": []
  },
  {
   "cell_type": "code",
   "execution_count": null,
   "metadata": {},
   "outputs": [],
   "source": []
  },
  {
   "cell_type": "code",
   "execution_count": null,
   "metadata": {},
   "outputs": [],
   "source": []
  }
 ],
 "metadata": {
  "kernelspec": {
   "display_name": "Python 3",
   "language": "python",
   "name": "python3"
  },
  "language_info": {
   "codemirror_mode": {
    "name": "ipython",
    "version": 3
   },
   "file_extension": ".py",
   "mimetype": "text/x-python",
   "name": "python",
   "nbconvert_exporter": "python",
   "pygments_lexer": "ipython3",
   "version": "3.7.0"
  }
 },
 "nbformat": 4,
 "nbformat_minor": 2
}

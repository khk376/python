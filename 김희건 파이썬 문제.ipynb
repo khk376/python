{
 "cells": [
  {
   "cell_type": "markdown",
   "metadata": {},
   "source": [
    "다음 소스 코드에서 Date 클래스를 완성하세요. <br>date_valid는 문자열이 올바른 날짜인지 검사하는 메서드입니다.<br> 날짜에서 월은 12월까지, 일은 31일까지 있어야 합니다.\n",
    "\n",
    "출력예시*\n",
    "> 날짜 입력: 2018-11-31<br>\n",
    "올바른 날짜 형식입니다."
   ]
  },
  {
   "cell_type": "code",
   "execution_count": 5,
   "metadata": {},
   "outputs": [
    {
     "name": "stdout",
     "output_type": "stream",
     "text": [
      "날짜 입력: 2010-10-31\n",
      "올바른 날짜 형식입니다.\n"
     ]
    }
   ],
   "source": [
    "class Date:\n",
    "    def date_valid(date):\n",
    "        year, month, day = map(int, date.split('-'))\n",
    "        return month <= 12 and day <= 31\n",
    "\n",
    "if Date.date_valid(input('날짜 입력: ')): # 날짜 입력 ex) 2018-11-26\n",
    "    print('올바른 날짜 형식입니다.')\n",
    "else:\n",
    "    print('잘못된 날짜 형식입니다.')"
   ]
  },
  {
   "cell_type": "code",
   "execution_count": null,
   "metadata": {},
   "outputs": [],
   "source": [
    "class Date:\n",
    "    def date_valid(?):\n",
    "        ?\n",
    "    \n",
    "if Date.date_valid(input('날짜 입력: ')): # 날짜 입력 ex) 2018-11-26\n",
    "    print('올바른 날짜 형식입니다.')\n",
    "else:\n",
    "    print('잘못된 날짜 형식입니다.')"
   ]
  },
  {
   "cell_type": "markdown",
   "metadata": {},
   "source": [
    "1~50 사이의 랜덤 숫자 맞추기 Up & Down 게임을 만드시오.\n",
    "\n",
    ">정답보다 작은 수를 입력한경우 down, 큰수를 입력한 경우 up이 출력되도록 작성하시오\n",
    ">정답을 입력한 경우 정답메시지를 출력하시오.\n",
    "\n",
    "출력예시\n",
    ">숫자 Up & Down 게임 시작<br>\n",
    ">---------------------------<br>\n",
    ">1 ~ 50 사이의 숫자를 입력하세요 : 0<br>\n",
    ">Up<br>\n",
    ">1 ~ 50 사이의 숫자를 입력하세요 : 10<br>\n",
    ">Up<br>\n",
    ">1 ~ 50 사이의 숫자를 입력하세요 : 50<br>\n",
    ">Down<br>\n",
    ">1 ~ 50 사이의 숫자를 입력하세요 : 40<br>\n",
    ">Up<br>\n",
    ">1 ~ 50 사이의 숫자를 입력하세요 : 45<br>\n",
    ">---------------------------<br>\n",
    ">5 번 만에 정답을 맞추셨습니다.<br>"
   ]
  },
  {
   "cell_type": "code",
   "execution_count": 7,
   "metadata": {},
   "outputs": [
    {
     "name": "stdout",
     "output_type": "stream",
     "text": [
      "숫자 Up & Down 게임 시작!\n",
      "---------------------------\n",
      "1 ~ 50 사이의 숫자를 입력하세요 : 0\n",
      "Up\n",
      "1 ~ 50 사이의 숫자를 입력하세요 : 10\n",
      "Up\n",
      "1 ~ 50 사이의 숫자를 입력하세요 : 50\n",
      "Down\n",
      "1 ~ 50 사이의 숫자를 입력하세요 : 40\n",
      "Up\n",
      "1 ~ 50 사이의 숫자를 입력하세요 : 45\n",
      "---------------------------\n",
      "5 번 만에 정답을 맞추셨습니다.\n"
     ]
    }
   ],
   "source": [
    "import random\n",
    "\n",
    "ran = random.randrange(1, 51, 1) # 1~50 사이의 숫자 랜덤 생성\n",
    "#print(\"정답:\",ran) \n",
    "num = 0\n",
    "count = 0\n",
    "\n",
    "print(\"숫자 Up & Down 게임 시작!\")\n",
    "print(\"---------------------------\")\n",
    "while ( ran != num ):\n",
    "\n",
    "    num = int(input(\"1 ~ 50 사이의 숫자를 입력하세요 : \"))\n",
    "\n",
    "    if (num > ran):\n",
    "        print(\"Down\")\n",
    "    elif (num < ran):\n",
    "        print(\"Up\")\n",
    "    count += 1\n",
    "    \n",
    "print(\"---------------------------\")\n",
    "print(count, \"번 만에 정답을 맞추셨습니다.\")"
   ]
  },
  {
   "cell_type": "code",
   "execution_count": null,
   "metadata": {},
   "outputs": [],
   "source": [
    "import random\n",
    "\n",
    "ran = random.randrange(1, 51, 1) # 1~50 사이의 숫자 랜덤 생성\n",
    "#print(\"정답:\",ran) \n",
    "num = 0\n",
    "count = 0\n",
    "\n",
    "print(\"숫자 Up & Down 게임 시작!\")\n",
    "print(\"---------------------------\")\n",
    "while ( ? ):\n",
    "\n",
    "    \n",
    "    ?\n",
    "    \n",
    "    \n",
    "    \n",
    "print(\"---------------------------\")\n",
    "print(count, \"번 만에 정답을 맞추셨습니다.\")\n",
    "        "
   ]
  },
  {
   "cell_type": "markdown",
   "metadata": {},
   "source": [
    "어떤 숫자 n이 자신을 제외한 모든 약수들의 합과 같으면, 그 수를 완전수라고 한다. \n",
    "\n",
    "예를 들어 6은 6 = 1 + 2 + 3 으로 완전수이다.\n",
    "\n",
    "n이 완전수인지 아닌지 판단해주는 프로그램을 작성하라.\n",
    "\n",
    "출력예시*\n",
    ">자연수 입력: 28<br>\n",
    ">--------------------------<br>\n",
    ">자신을 제외한 약수의 합: 28<br>\n",
    ">28은(는) 완전수 입니다!<br>"
   ]
  },
  {
   "cell_type": "code",
   "execution_count": 9,
   "metadata": {},
   "outputs": [
    {
     "name": "stdout",
     "output_type": "stream",
     "text": [
      "자연수를 입력하시오: 6\n",
      "-------------------------\n",
      "자신을 제외한 약수의 합: 6\n",
      "6은(는) 완전수 입니다!\n"
     ]
    }
   ],
   "source": [
    "# 자신을 제외한 약수의 합을 구하고, 그 수가 완전수라면 완전수라는 메시지를 출력하라\n",
    "\n",
    "def sumDiv(num):\n",
    "    for i in range(1,num+1):\n",
    "        answer=0\n",
    "        for j in range(1, i):\n",
    "            if i%j==0:\n",
    "                answer += j\n",
    " \n",
    "    return answer \n",
    "\n",
    "a=int(input(\"자연수를 입력하시오: \"))\n",
    "print(\"-------------------------\")\n",
    "print(\"자신을 제외한 약수의 합: {}\".format(sumDiv(a)))\n",
    "\n",
    "if (sumDiv(a)==a):\n",
    "    print(\"%d은(는) 완전수 입니다!\" % a)"
   ]
  },
  {
   "cell_type": "code",
   "execution_count": null,
   "metadata": {},
   "outputs": [],
   "source": [
    "# 자신을 제외한 약수의 합을 구하고, 그 수가 완전수라면 완전수라는 메시지를 출력하라\n",
    "\n",
    "def sumDiv(num):\n",
    "\n",
    "    ?\n",
    "    \n",
    "    \n",
    "    return answer \n",
    "\n",
    "a=int(input(\"자연수를 입력하시오: \"))\n",
    "print(\"-------------------------\")\n",
    "print(\"자신을 제외한 약수의 합: {}\".format(sumDiv(a)))\n",
    "\n",
    "if (sumDiv(a)==a):\n",
    "    print(\"%d은(는) 완전수 입니다!\" % a)"
   ]
  },
  {
   "cell_type": "code",
   "execution_count": 3,
   "metadata": {},
   "outputs": [
    {
     "name": "stdout",
     "output_type": "stream",
     "text": [
      "16\n"
     ]
    }
   ],
   "source": [
    "# 자기 자신을 제외한 약수들의 합 구하기\n",
    "N=12\n",
    "for i in range(1, N+1): \n",
    "    sum = 0\n",
    "    for j in range(1, i): \n",
    "        if i%j==0:  \n",
    "            sum += j \n",
    "print(sum)"
   ]
  }
 ],
 "metadata": {
  "kernelspec": {
   "display_name": "Python 3",
   "language": "python",
   "name": "python3"
  },
  "language_info": {
   "codemirror_mode": {
    "name": "ipython",
    "version": 3
   },
   "file_extension": ".py",
   "mimetype": "text/x-python",
   "name": "python",
   "nbconvert_exporter": "python",
   "pygments_lexer": "ipython3",
   "version": "3.7.0"
  }
 },
 "nbformat": 4,
 "nbformat_minor": 2
}

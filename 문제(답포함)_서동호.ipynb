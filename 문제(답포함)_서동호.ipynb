{
 "cells": [
  {
   "cell_type": "markdown",
   "metadata": {},
   "source": [
    "## 문제1\n",
    "\n",
    "아래의 Person 클래스를 실행한 후 \n",
    "p1에 ('허준', 20)\n",
    "p2에 (유재석)\n",
    "이 정상 출력될 수 있도록 수정하시오.(class문만 수정 가능)"
   ]
  },
  {
   "cell_type": "code",
   "execution_count": 15,
   "metadata": {},
   "outputs": [],
   "source": [
    "class Person:\n",
    "        \n",
    "    def __init__(self, name, age):\n",
    "        name = \"성명\"\n",
    "        age = 10\n",
    "        self.name = name\n",
    "        self.age = age\n",
    "            \n",
    "    def setName(self, newName):\n",
    "        self.name = newName\n",
    "        \n",
    "    def getName(self):\n",
    "        return self.name\n",
    "    \n",
    "    def getAge(self):\n",
    "        return self.age\n"
   ]
  },
  {
   "cell_type": "code",
   "execution_count": 16,
   "metadata": {},
   "outputs": [
    {
     "name": "stdout",
     "output_type": "stream",
     "text": [
      "성명 10\n"
     ]
    }
   ],
   "source": [
    "p1 = Person('허준', 20)\n",
    "print(p1.getName(), p1.getAge())"
   ]
  },
  {
   "cell_type": "code",
   "execution_count": 17,
   "metadata": {},
   "outputs": [
    {
     "ename": "TypeError",
     "evalue": "__init__() missing 1 required positional argument: 'age'",
     "output_type": "error",
     "traceback": [
      "\u001b[1;31m---------------------------------------------------------------------------\u001b[0m",
      "\u001b[1;31mTypeError\u001b[0m                                 Traceback (most recent call last)",
      "\u001b[1;32m<ipython-input-17-4909174e2b65>\u001b[0m in \u001b[0;36m<module>\u001b[1;34m()\u001b[0m\n\u001b[1;32m----> 1\u001b[1;33m \u001b[0mp2\u001b[0m \u001b[1;33m=\u001b[0m \u001b[0mPerson\u001b[0m\u001b[1;33m(\u001b[0m\u001b[1;34m'유재석'\u001b[0m\u001b[1;33m)\u001b[0m\u001b[1;33m\u001b[0m\u001b[0m\n\u001b[0m\u001b[0;32m      2\u001b[0m \u001b[0mprint\u001b[0m\u001b[1;33m(\u001b[0m\u001b[0mp2\u001b[0m\u001b[1;33m.\u001b[0m\u001b[0mgetName\u001b[0m\u001b[1;33m(\u001b[0m\u001b[1;33m)\u001b[0m\u001b[1;33m)\u001b[0m\u001b[1;33m\u001b[0m\u001b[0m\n",
      "\u001b[1;31mTypeError\u001b[0m: __init__() missing 1 required positional argument: 'age'"
     ]
    }
   ],
   "source": [
    "p2 = Person('유재석')\n",
    "print(p2.getName())"
   ]
  },
  {
   "cell_type": "code",
   "execution_count": 1,
   "metadata": {},
   "outputs": [],
   "source": [
    "#1번 정답\n",
    "class Person:\n",
    "        \n",
    "    def __init__(self, name=\"성명\", age=10):\n",
    "        self.name = name\n",
    "        self.age = age\n",
    "            \n",
    "    def setName(self, newName):\n",
    "        self.name = newName\n",
    "        \n",
    "    def getName(self):\n",
    "        return self.name\n",
    "    \n",
    "    def getAge(self):\n",
    "        return self.age\n"
   ]
  },
  {
   "cell_type": "markdown",
   "metadata": {},
   "source": [
    "## 문제2\n",
    "\n",
    "아래의 p6가 (장자, 27)이 출력될 수 있도록 생성자를 초기화하고, class를 수정하여 정상 출력하시오.   "
   ]
  },
  {
   "cell_type": "code",
   "execution_count": 27,
   "metadata": {},
   "outputs": [],
   "source": [
    "class People2:\n",
    "    def __init__(self, name, age):\n",
    "        self.__name = name\n",
    "        self.__age = age"
   ]
  },
  {
   "cell_type": "code",
   "execution_count": 28,
   "metadata": {},
   "outputs": [
    {
     "ename": "TypeError",
     "evalue": "__init__() missing 2 required positional arguments: 'name' and 'age'",
     "output_type": "error",
     "traceback": [
      "\u001b[1;31m---------------------------------------------------------------------------\u001b[0m",
      "\u001b[1;31mTypeError\u001b[0m                                 Traceback (most recent call last)",
      "\u001b[1;32m<ipython-input-28-dd430ffd7c6b>\u001b[0m in \u001b[0;36m<module>\u001b[1;34m()\u001b[0m\n\u001b[1;32m----> 1\u001b[1;33m \u001b[0mp6\u001b[0m \u001b[1;33m=\u001b[0m \u001b[0mPeople2\u001b[0m\u001b[1;33m(\u001b[0m\u001b[1;33m)\u001b[0m\u001b[1;33m\u001b[0m\u001b[0m\n\u001b[0m\u001b[0;32m      2\u001b[0m \u001b[0mprint\u001b[0m\u001b[1;33m(\u001b[0m\u001b[0mp6\u001b[0m\u001b[1;33m.\u001b[0m\u001b[0mname\u001b[0m\u001b[1;33m,\u001b[0m \u001b[0mp6\u001b[0m\u001b[1;33m.\u001b[0m\u001b[0mage\u001b[0m\u001b[1;33m)\u001b[0m\u001b[1;33m\u001b[0m\u001b[0m\n",
      "\u001b[1;31mTypeError\u001b[0m: __init__() missing 2 required positional arguments: 'name' and 'age'"
     ]
    }
   ],
   "source": [
    "p6 = People2()\n",
    "print(p6.name, p6.age)"
   ]
  },
  {
   "cell_type": "code",
   "execution_count": 6,
   "metadata": {},
   "outputs": [],
   "source": [
    "# 문제2 정답\n",
    "class People2:\n",
    "    def __init__(self, name=\"장자\", age=27):\n",
    "        self.name = name\n",
    "        self.age = age"
   ]
  },
  {
   "cell_type": "markdown",
   "metadata": {},
   "source": [
    "## 문제3\n",
    "\n",
    "DA 클래스 개발해보기\n",
    "멤버변수 : subject(과목), score(점수), grade(등급)\n",
    "생성자 : exam 변수에 대해서 초기값 0, grade 변수에 대해서 초기값 F로 지정 각 멤버변수 수정 및 반환 메소드 생성하기\n",
    "\n",
    "subject = Python 일 때 초기 점수값과 등급 반환해서 다음과 같이 출력하기\n",
    "--> Python 과목의 시험 성적은 0, 등급은 F\n",
    " \n",
    "subject = Java 일 때 점수값 99, 등급 A+ 지정해서 다음과 같이 출력하기\n",
    "--> JAVA 과목의 시험 성적은 99, 등급은 A+"
   ]
  },
  {
   "cell_type": "code",
   "execution_count": null,
   "metadata": {},
   "outputs": [],
   "source": [
    "# 문제3 정답\n",
    "class DA: \n",
    "    def __init__(self, subject, exam=0, grade='F'):\n",
    "        self.subject = subject\n",
    "        self.exam = exam\n",
    "        self.grade = grade\n",
    "        \n",
    "    def setSubject(self, newSubject):\n",
    "        self.subject = newSubject\n",
    "       \n",
    "    def setGrade(self, newGrade):\n",
    "        self.grade = newGrade\n",
    "        \n",
    "    def setExam(self, newExam):\n",
    "        self.exam = newExam\n",
    "        \n",
    "    def getSubject(self):\n",
    "        return self.subject\n",
    "    \n",
    "    def getGrade(self):\n",
    "        return self.grade\n",
    "    \n",
    "    def getExam(self):\n",
    "        return self.exam\n",
    "    "
   ]
  },
  {
   "cell_type": "code",
   "execution_count": null,
   "metadata": {},
   "outputs": [],
   "source": [
    "# 문제3 정답\n",
    "d1 = DA('python', 0, 'F')\n",
    "print(d1.getSubject(), d1.getExam(), d1.getGrade())"
   ]
  },
  {
   "cell_type": "code",
   "execution_count": null,
   "metadata": {},
   "outputs": [],
   "source": [
    "# 문제3 정답\n",
    "d2 = DA('JAVA', 99, 'A+')\n",
    "print(d2.getSubject(), d2.getExam(), d2.getGrade())"
   ]
  },
  {
   "cell_type": "markdown",
   "metadata": {},
   "source": [
    "## 문제4\n",
    "\n",
    "아래와 같은 결과값이 도출될 수 있도록 계산기 class(\\__init__)를 작성하시오."
   ]
  },
  {
   "cell_type": "code",
   "execution_count": null,
   "metadata": {},
   "outputs": [],
   "source": [
    "cal1 = Calculator([6,7,8,9,10])\n",
    "print(cal1.sum())  # 40 출력\n",
    "print(cal1.avg())  # 8.0 출력\n",
    "\n",
    "cal2 = Calculator([11,12,13,14,15])\n",
    "print(cal2.sum())  # 65 출력\n",
    "print(cal2.avg())  # 13.0 출력"
   ]
  },
  {
   "cell_type": "code",
   "execution_count": 4,
   "metadata": {},
   "outputs": [],
   "source": [
    "# 문제4 정답\n",
    "\n",
    "class Calculator:\n",
    "    def __init__(self, numberList):\n",
    "        self.numberList = numberList\n",
    "\n",
    "    def sum(self):\n",
    "        result = 0\n",
    "        for num in self.numberList:\n",
    "            result += num\n",
    "        return result\n",
    "\n",
    "    def avg(self):\n",
    "        total = self.sum( )\n",
    "        return total / len(self.numberList)"
   ]
  }
 ],
 "metadata": {
  "kernelspec": {
   "display_name": "Python 3",
   "language": "python",
   "name": "python3"
  },
  "language_info": {
   "codemirror_mode": {
    "name": "ipython",
    "version": 3
   },
   "file_extension": ".py",
   "mimetype": "text/x-python",
   "name": "python",
   "nbconvert_exporter": "python",
   "pygments_lexer": "ipython3",
   "version": "3.7.0"
  }
 },
 "nbformat": 4,
 "nbformat_minor": 2
}

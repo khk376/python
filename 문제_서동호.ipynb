{
 "cells": [
  {
   "cell_type": "markdown",
   "metadata": {},
   "source": [
    "## 문제1\n",
    "\n",
    "아래의 Person 클래스를 실행한 후 \n",
    "p1에 ('허준', 20)\n",
    "p2에 (유재석)\n",
    "이 정상 출력될 수 있도록 수정하시오.(class문만 수정 가능)"
   ]
  },
  {
   "cell_type": "code",
   "execution_count": 43,
   "metadata": {},
   "outputs": [],
   "source": [
    "class Person:\n",
    "        \n",
    "    def __init__(self, name='성명', age=10):\n",
    "        self.name = name\n",
    "        self.age = age\n",
    "            \n",
    "    def setName(self, newName):\n",
    "        self.name = newName\n",
    "        \n",
    "    def getName(self):\n",
    "        return self.name\n",
    "    \n",
    "    def getAge(self):\n",
    "        return self.age\n"
   ]
  },
  {
   "cell_type": "code",
   "execution_count": 44,
   "metadata": {},
   "outputs": [
    {
     "name": "stdout",
     "output_type": "stream",
     "text": [
      "허준 20\n"
     ]
    }
   ],
   "source": [
    "p1 = Person('허준', 20)\n",
    "print(p1.getName(), p1.getAge())"
   ]
  },
  {
   "cell_type": "code",
   "execution_count": 45,
   "metadata": {},
   "outputs": [
    {
     "name": "stdout",
     "output_type": "stream",
     "text": [
      "유재석\n"
     ]
    }
   ],
   "source": [
    "p2 = Person('유재석')\n",
    "print(p2.getName())"
   ]
  },
  {
   "cell_type": "markdown",
   "metadata": {},
   "source": [
    "## 문제2\n",
    "\n",
    "아래의 p6가 (장자, 27)이 출력될 수 있도록 생성자를 초기화하고, class를 수정하여 정상 출력하시오.   "
   ]
  },
  {
   "cell_type": "code",
   "execution_count": 46,
   "metadata": {},
   "outputs": [],
   "source": [
    "class People2:\n",
    "    def __init__(self, name='장자', age=27):\n",
    "        self.name = name\n",
    "        self.age = age\n",
    "    \n",
    "    def getName(self):\n",
    "        return self.name\n",
    "    def getAge(self):\n",
    "        return self.age"
   ]
  },
  {
   "cell_type": "code",
   "execution_count": 47,
   "metadata": {},
   "outputs": [
    {
     "name": "stdout",
     "output_type": "stream",
     "text": [
      "장자 27\n"
     ]
    }
   ],
   "source": [
    "p6 = People2()\n",
    "print(p6.name, p6.age)"
   ]
  },
  {
   "cell_type": "markdown",
   "metadata": {},
   "source": [
    "## 문제3\n",
    "\n",
    "DA 클래스 개발해보기\n",
    "멤버변수 : subject(과목), score(점수), grade(등급)\n",
    "생성자 : exam 변수에 대해서 초기값 0, grade 변수에 대해서 초기값 F로 지정 각 멤버변수 수정 및 반환 메소드 생성하기\n",
    "\n",
    "subject = Python 일 때 초기 점수값과 등급 반환해서 다음과 같이 출력하기\n",
    "--> Python 과목의 시험 성적은 0, 등급은 F\n",
    " \n",
    "subject = Java 일 때 점수값 99, 등급 A+ 지정해서 다음과 같이 출력하기\n",
    "--> JAVA 과목의 시험 성적은 99, 등급은 A+"
   ]
  },
  {
   "cell_type": "code",
   "execution_count": 48,
   "metadata": {},
   "outputs": [
    {
     "name": "stdout",
     "output_type": "stream",
     "text": [
      "Python 과목의 시험 성적은 0, 등급은 F\n",
      "JAVA 과목의 시험 성적은 99, 등급은 A+\n"
     ]
    }
   ],
   "source": [
    "class DA:\n",
    "    def __init__(self, subject, score=0 , grade='F'):\n",
    "        self.subject=subject\n",
    "        self.score=score\n",
    "        self.grade=grade\n",
    "        \n",
    "    def setScore(self, newscore):\n",
    "        return self.newscore\n",
    "    \n",
    "    def getScore(self, score):\n",
    "        return self.score\n",
    "\n",
    "    def setGrade(self, newgrade):\n",
    "        return self.newgrade\n",
    "    def getGrade(self, grade):\n",
    "        return self.grade\n",
    "    \n",
    "    def __str__(self):\n",
    "        return self.subject + \" 과목의 시험 성적은 \" + str(self.score) + \", 등급은 \" + self.grade\n",
    "\n",
    "a=DA(\"Python\")\n",
    "print(a)\n",
    "b=DA(\"JAVA\", 99, \"A+\")\n",
    "print(b)\n"
   ]
  },
  {
   "cell_type": "markdown",
   "metadata": {},
   "source": [
    "## 문제4\n",
    "\n",
    "아래와 같은 결과값이 도출될 수 있도록 계산기 class(\\__init__)를 작성하시오."
   ]
  },
  {
   "cell_type": "code",
   "execution_count": null,
   "metadata": {},
   "outputs": [],
   "source": [
    "class ca:\n",
    "    def __init__(self, sum(), avg())"
   ]
  },
  {
   "cell_type": "code",
   "execution_count": null,
   "metadata": {},
   "outputs": [],
   "source": [
    "cal1 = Calculator([6,7,8,9,10])\n",
    "print(cal1.sum())  # 40 출력\n",
    "print(cal1.avg())  # 8.0 출력\n",
    "\n",
    "cal2 = Calculator([11,12,13,14,15])\n",
    "print(cal2.sum())  # 65 출력\n",
    "print(cal2.avg())  # 13.0 출력"
   ]
  }
 ],
 "metadata": {
  "kernelspec": {
   "display_name": "Python 3",
   "language": "python",
   "name": "python3"
  },
  "language_info": {
   "codemirror_mode": {
    "name": "ipython",
    "version": 3
   },
   "file_extension": ".py",
   "mimetype": "text/x-python",
   "name": "python",
   "nbconvert_exporter": "python",
   "pygments_lexer": "ipython3",
   "version": "3.7.0"
  }
 },
 "nbformat": 4,
 "nbformat_minor": 2
}

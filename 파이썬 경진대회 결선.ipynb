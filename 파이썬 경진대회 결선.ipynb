{
 "cells": [
  {
   "cell_type": "markdown",
   "metadata": {},
   "source": [
    "## 파이썬 경진대회 결선\n",
    "\n",
    "2018.11.27.\n",
    "\n",
    "-- Description --\n",
    "1. 이 문제들은 부분점수가 있으니, 최선을 다해 푸는 사람이 승자가 됩니다\n",
    "2. 총 2문제이며, 제한시간은 60분입니다"
   ]
  },
  {
   "cell_type": "markdown",
   "metadata": {},
   "source": [
    "### 문제 1\n",
    "\n",
    "아래 주석의 설명을 보고, '매우' 공정한 주사위를 만들어 보세요<br>\n",
    "만들어진 주사위가 공정한 주사위인지 여부 확인을 위해, 10000번 주사위를 굴려 각 숫자가 나온 빈도를 count해 주세요"
   ]
  },
  {
   "cell_type": "code",
   "execution_count": null,
   "metadata": {
    "collapsed": true
   },
   "outputs": [],
   "source": [
    "'''\n",
    "    함수 또는 메소드는 아래의 조건을 만족해야 합니다.\n",
    "    \n",
    "    \n",
    "    1. input 값으로 0 ~ 6 까지의 정수와 0 ~ 100까지의 정수를 받습니다.\n",
    "        첫 번째 정수는 동작 모드를 나타냅니다.\n",
    "        두 번째 정수는 확률을 조작합니다.\n",
    "        \n",
    "        예) f = unBiasedDice()\n",
    "            while True:\n",
    "                f.main(동작모드, 확률)\n",
    "        \n",
    "    \n",
    "    2. 첫 번째 정수가 0 인 경우:\n",
    "        두 번째 정수의 값에 관계없이\n",
    "        1 ~ 6 까지 숫자가 출력 될 확률이 각각 1/6 이어야 합니다.\n",
    "        \n",
    "        예) f = unBiasedDice()\n",
    "            while True:\n",
    "                f.main(0, 99)\n",
    "                -> 1 ~ 6 까지의 숫자가 균등하게 출력되어야 합니다.\n",
    "    \n",
    "    \n",
    "    3. 첫 번째 정수가 0 이 아닌 경우:\n",
    "        첫 번째 정수의 값이 출력 될 학률이\n",
    "        두 번째 정수의 값으로 반영되어야 합니다.\n",
    "        나머지 숫자가 나올 확률은 균등한 주사위가 됩니다.\n",
    "        \n",
    "        예) f = unBiasedDice()\n",
    "            while True:\n",
    "                f.main(6, 95)\n",
    "                -> 1 은 1% 의 확률로 출력되어야 한다.\n",
    "                -> 2 은 1% 의 확률로 출력되어야 한다.\n",
    "                -> 3 은 1% 의 확률로 출력되어야 한다.\n",
    "                -> 4 은 1% 의 확률로 출력되어야 한다.\n",
    "                -> 5 은 1% 의 확률로 출력되어야 한다.\n",
    "                -> 6 은 95% 의 확률로 출력되어야 한다.\n",
    "\n",
    "'''\n",
    "\n",
    "from random import randint\n",
    "import time\n",
    "\n"
   ]
  },
  {
   "cell_type": "markdown",
   "metadata": {
    "collapsed": true
   },
   "source": [
    "### 문제 2\n",
    "\n",
    "비어 있는 함수들을 완성(pass 부분 채우기) 시켜서, 이름과 전화번호를 관리하는 프로그램을 작성해 보세요<br>"
   ]
  },
  {
   "cell_type": "code",
   "execution_count": null,
   "metadata": {
    "collapsed": true
   },
   "outputs": [],
   "source": [
    "'''\n",
    "전화번호부 만들기\n",
    "\n",
    "1. print_dic()\n",
    "모든 이름과 전화번호를 출력하는 함수\n",
    "등록된 내용이 없으면 \"전화번호부가 비어 있습니다\" 출력할 것\n",
    "\n",
    "2. add_number()\n",
    "사용자로부터 데이터를 입력 받아서 사전에 추가하는 함수\n",
    "입력 값은 비어 있으면 안 됨\n",
    "\n",
    "3. remove_number()\n",
    "사용자로부터 이름을 입력받아 사전에서 제거하는 함수\n",
    "없는 이름을 입력했을 때, 예외 처리\n",
    "\n",
    "4. lookup_number()\n",
    "사용자로부터 이름을 입력받아, 해당 이름의 전화번호를 검색하는 함수\n",
    "검색 결과가 없으면 \"찾는 이름이 없습니다\" 출력할 것\n",
    "\n",
    "5. main()\n",
    "파일은 txt파일로 생성하며, 하나의 line에 하나의 data가 저장된다\n",
    "':'를 기준으로 구분하여 저장\n",
    "프로그램 실행, 종료 시 파일 읽기/쓰기 수행\n",
    "'''\n",
    "\n",
    "def print_menu():\n",
    "    print('1. 전화 번호 출력')\n",
    "    print('2. 전화 번호 추가')\n",
    "    print('3. 전화 번호 삭제')\n",
    "    print('4. 전화 번호 찾기')\n",
    "    print('5. 종료')\n",
    "    \n",
    "def print_dic():\n",
    "    pass\n",
    "    \n",
    "def add_number():\n",
    "    pass\n",
    "\n",
    "def remove_number():\n",
    "    pass\n",
    "\n",
    "def lookup_number():\n",
    "    pass\n",
    "\n",
    "if __name__==\"__main__\":\n",
    "    numbers = {}\n",
    "    \n",
    "    with open(\"number.txt\") as f:\n",
    "        pass\n",
    "\n",
    "    while 1:\n",
    "        menu_choice = 0\n",
    "        print_menu()\n",
    "        menu_choice = input(\"처리할 메뉴의 숫자를 입력하세요:\")\n",
    "\n",
    "        if menu_choice == \"1\":\n",
    "            print_dic()\n",
    "        elif menu_choice == \"2\":\n",
    "            add_number()\n",
    "        elif menu_choice == \"3\":\n",
    "            remove_number()\n",
    "        elif menu_choice == \"4\":\n",
    "            lookup_number()\n",
    "        elif menu_choice == \"5\":\n",
    "            print(\"프로그램을 종료합니다\")\n",
    "            \n",
    "            with open(\"number.txt\", \"w\") as f:\n",
    "                for key in numbers.keys():\n",
    "                    f.write(key+\":\"+numbers[key]+'\\n')\n",
    "            break\n",
    "            \n",
    "        else:\n",
    "            print(\"1~5 사이의 올바른 숫자를 입력하세요\")"
   ]
  },
  {
   "cell_type": "code",
   "execution_count": null,
   "metadata": {
    "collapsed": true
   },
   "outputs": [],
   "source": []
  }
 ],
 "metadata": {
  "kernelspec": {
   "display_name": "Python 3",
   "language": "python",
   "name": "python3"
  },
  "language_info": {
   "codemirror_mode": {
    "name": "ipython",
    "version": 3
   },
   "file_extension": ".py",
   "mimetype": "text/x-python",
   "name": "python",
   "nbconvert_exporter": "python",
   "pygments_lexer": "ipython3",
   "version": "3.7.0"
  }
 },
 "nbformat": 4,
 "nbformat_minor": 2
}
